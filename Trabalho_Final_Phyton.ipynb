{
 "cells": [
  {
   "cell_type": "markdown",
   "metadata": {},
   "source": [
    "# Trabalho Final – Programando IA com Python"
   ]
  },
  {
   "cell_type": "markdown",
   "metadata": {},
   "source": [
    "#### Bibliotecas principais"
   ]
  },
  {
   "cell_type": "code",
   "execution_count": 1,
   "metadata": {},
   "outputs": [],
   "source": [
    "import pandas as pd\n",
    "import numpy as np\n",
    "import matplotlib.pyplot as plt\n",
    "import seaborn as sns\n",
    "import datetime\n",
    "from scipy.stats import pearsonr\n",
    "from sklearn.model_selection import train_test_split\n",
    "from sklearn import linear_model\n",
    "from sklearn.metrics import mean_squared_error"
   ]
  },
  {
   "cell_type": "markdown",
   "metadata": {},
   "source": [
    "## 1. Leia o arquivo lemonades.csv usando pandas"
   ]
  },
  {
   "cell_type": "code",
   "execution_count": 37,
   "metadata": {
    "scrolled": true
   },
   "outputs": [
    {
     "data": {
      "text/html": [
       "<div>\n",
       "<style scoped>\n",
       "    .dataframe tbody tr th:only-of-type {\n",
       "        vertical-align: middle;\n",
       "    }\n",
       "\n",
       "    .dataframe tbody tr th {\n",
       "        vertical-align: top;\n",
       "    }\n",
       "\n",
       "    .dataframe thead th {\n",
       "        text-align: right;\n",
       "    }\n",
       "</style>\n",
       "<table border=\"1\" class=\"dataframe\">\n",
       "  <thead>\n",
       "    <tr style=\"text-align: right;\">\n",
       "      <th></th>\n",
       "      <th>Date</th>\n",
       "      <th>Location</th>\n",
       "      <th>Lemon</th>\n",
       "      <th>Orange</th>\n",
       "      <th>Temperature</th>\n",
       "      <th>Leaflets</th>\n",
       "      <th>Price</th>\n",
       "    </tr>\n",
       "  </thead>\n",
       "  <tbody>\n",
       "    <tr>\n",
       "      <td>0</td>\n",
       "      <td>07/01/2016</td>\n",
       "      <td>Park</td>\n",
       "      <td>97</td>\n",
       "      <td>67</td>\n",
       "      <td>70</td>\n",
       "      <td>90.0</td>\n",
       "      <td>0.25</td>\n",
       "    </tr>\n",
       "    <tr>\n",
       "      <td>1</td>\n",
       "      <td>07/02/2016</td>\n",
       "      <td>Park</td>\n",
       "      <td>98</td>\n",
       "      <td>67</td>\n",
       "      <td>72</td>\n",
       "      <td>90.0</td>\n",
       "      <td>0.25</td>\n",
       "    </tr>\n",
       "    <tr>\n",
       "      <td>2</td>\n",
       "      <td>07/03/2016</td>\n",
       "      <td>Park</td>\n",
       "      <td>110</td>\n",
       "      <td>77</td>\n",
       "      <td>71</td>\n",
       "      <td>104.0</td>\n",
       "      <td>0.25</td>\n",
       "    </tr>\n",
       "    <tr>\n",
       "      <td>3</td>\n",
       "      <td>07/04/2016</td>\n",
       "      <td>Beach</td>\n",
       "      <td>134</td>\n",
       "      <td>99</td>\n",
       "      <td>76</td>\n",
       "      <td>98.0</td>\n",
       "      <td>0.25</td>\n",
       "    </tr>\n",
       "    <tr>\n",
       "      <td>4</td>\n",
       "      <td>07/05/2016</td>\n",
       "      <td>Beach</td>\n",
       "      <td>159</td>\n",
       "      <td>118</td>\n",
       "      <td>78</td>\n",
       "      <td>135.0</td>\n",
       "      <td>0.25</td>\n",
       "    </tr>\n",
       "  </tbody>\n",
       "</table>\n",
       "</div>"
      ],
      "text/plain": [
       "         Date Location  Lemon  Orange  Temperature  Leaflets  Price\n",
       "0  07/01/2016     Park     97      67           70      90.0   0.25\n",
       "1  07/02/2016     Park     98      67           72      90.0   0.25\n",
       "2  07/03/2016     Park    110      77           71     104.0   0.25\n",
       "3  07/04/2016    Beach    134      99           76      98.0   0.25\n",
       "4  07/05/2016    Beach    159     118           78     135.0   0.25"
      ]
     },
     "execution_count": 37,
     "metadata": {},
     "output_type": "execute_result"
    }
   ],
   "source": [
    "Lemonades = pd.read_csv('data/Lemonades.csv', delimiter=';')\n",
    "Lemonades.head()"
   ]
  },
  {
   "cell_type": "markdown",
   "metadata": {},
   "source": [
    "## 2. Retorne as informações sobre as colunas e as principais estatísticas sobre o dataset"
   ]
  },
  {
   "cell_type": "markdown",
   "metadata": {},
   "source": [
    "#### °Formato do dataframe: linhas x colunas"
   ]
  },
  {
   "cell_type": "code",
   "execution_count": 38,
   "metadata": {},
   "outputs": [
    {
     "name": "stdout",
     "output_type": "stream",
     "text": [
      "formato:  (32, 7)\n"
     ]
    }
   ],
   "source": [
    "print('formato: ', Lemonades.shape)"
   ]
  },
  {
   "cell_type": "code",
   "execution_count": 39,
   "metadata": {},
   "outputs": [
    {
     "name": "stdout",
     "output_type": "stream",
     "text": [
      "Date            object\n",
      "Location        object\n",
      "Lemon            int64\n",
      "Orange           int64\n",
      "Temperature      int64\n",
      "Leaflets       float64\n",
      "Price          float64\n",
      "dtype: object\n"
     ]
    }
   ],
   "source": [
    "#tipo de dados por colunas\n",
    "print(Lemonades.dtypes)"
   ]
  },
  {
   "cell_type": "markdown",
   "metadata": {},
   "source": [
    "#### °Principais estatísticas"
   ]
  },
  {
   "cell_type": "code",
   "execution_count": 40,
   "metadata": {},
   "outputs": [
    {
     "name": "stdout",
     "output_type": "stream",
     "text": [
      "            Lemon      Orange  Temperature    Leaflets      Price\n",
      "count   32.000000   32.000000    32.000000   31.000000  32.000000\n",
      "mean   116.156250   80.000000    78.968750  108.548387   0.354688\n",
      "std     25.823357   21.863211     4.067847   20.117718   0.113137\n",
      "min     71.000000   42.000000    70.000000   68.000000   0.250000\n",
      "25%     98.000000   66.750000    77.000000   90.000000   0.250000\n",
      "50%    113.500000   76.500000    80.500000  108.000000   0.350000\n",
      "75%    131.750000   95.000000    82.000000  124.000000   0.500000\n",
      "max    176.000000  129.000000    84.000000  158.000000   0.500000\n",
      "\n",
      " Location\n",
      "Beach    17\n",
      "Park     15\n",
      "dtype: int64\n"
     ]
    }
   ],
   "source": [
    "print(Lemonades.describe())\n",
    "\n",
    "#Categóricos\n",
    "print('\\n',Lemonades.groupby(by =['Location']).size())"
   ]
  },
  {
   "cell_type": "markdown",
   "metadata": {},
   "source": [
    "#### °Estátiscas por localização"
   ]
  },
  {
   "cell_type": "code",
   "execution_count": 41,
   "metadata": {},
   "outputs": [
    {
     "name": "stdout",
     "output_type": "stream",
     "text": [
      "Média\n",
      "               Lemon     Orange  Temperature    Leaflets     Price\n",
      "Location                                                          \n",
      "Beach     118.823529  82.470588    79.705882  108.058824  0.305882\n",
      "Park      113.133333  77.200000    78.133333  109.142857  0.410000\n",
      "\n",
      "Mediana\n",
      "          Lemon  Orange  Temperature  Leaflets  Price\n",
      "Location                                             \n",
      "Beach       122      85           81     108.0   0.25\n",
      "Park        110      75           80     106.0   0.50\n",
      "\n",
      "Quantidade\n",
      "          Date  Lemon  Orange  Temperature  Leaflets  Price\n",
      "Location                                                   \n",
      "Beach       16     17      17           17        17     17\n",
      "Park        15     15      15           15        14     15\n",
      "\n",
      "Desvio Padrão\n",
      "              Lemon     Orange  Temperature   Leaflets     Price\n",
      "Location                                                        \n",
      "Beach     25.476056  21.940595     3.077432  20.882022  0.098238\n",
      "Park      26.765828  22.191375     4.940600  19.914653  0.105560\n",
      "\n",
      "Mínimo\n",
      "          Lemon  Orange  Temperature  Leaflets  Price\n",
      "Location                                             \n",
      "Beach        76      47           74      68.0   0.25\n",
      "Park         71      42           70      90.0   0.25\n",
      "\n",
      "Máximo\n",
      "          Lemon  Orange  Temperature  Leaflets  Price\n",
      "Location                                             \n",
      "Beach       162     120           84     135.0    0.5\n",
      "Park        176     129           84     158.0    0.5\n"
     ]
    }
   ],
   "source": [
    "print('Média')\n",
    "print(Lemonades.groupby(by =['Location']).mean())\n",
    "print('\\nMediana')\n",
    "print(Lemonades.groupby(by =['Location']).median())\n",
    "print('\\nQuantidade')\n",
    "print(Lemonades.groupby(by =['Location']).count())\n",
    "print('\\nDesvio Padrão')\n",
    "print(Lemonades.groupby(by =['Location']).std())\n",
    "print('\\nMínimo')\n",
    "print(Lemonades.groupby(by =['Location']).min())\n",
    "print('\\nMáximo')\n",
    "print(Lemonades.groupby(by =['Location']).max())"
   ]
  },
  {
   "cell_type": "markdown",
   "metadata": {},
   "source": [
    "## 3. Realize a limpeza do dataset:"
   ]
  },
  {
   "cell_type": "markdown",
   "metadata": {},
   "source": [
    "### a. verifique se existe valores nulos"
   ]
  },
  {
   "cell_type": "code",
   "execution_count": 42,
   "metadata": {},
   "outputs": [
    {
     "data": {
      "text/plain": [
       "Date           1\n",
       "Location       0\n",
       "Lemon          0\n",
       "Orange         0\n",
       "Temperature    0\n",
       "Leaflets       1\n",
       "Price          0\n",
       "dtype: int64"
      ]
     },
     "execution_count": 42,
     "metadata": {},
     "output_type": "execute_result"
    }
   ],
   "source": [
    "Lemonades.isna().sum()"
   ]
  },
  {
   "cell_type": "markdown",
   "metadata": {},
   "source": [
    "### b. verifique e remova, se existir, linhas duplicadas"
   ]
  },
  {
   "cell_type": "code",
   "execution_count": 43,
   "metadata": {},
   "outputs": [
    {
     "data": {
      "text/html": [
       "<div>\n",
       "<style scoped>\n",
       "    .dataframe tbody tr th:only-of-type {\n",
       "        vertical-align: middle;\n",
       "    }\n",
       "\n",
       "    .dataframe tbody tr th {\n",
       "        vertical-align: top;\n",
       "    }\n",
       "\n",
       "    .dataframe thead th {\n",
       "        text-align: right;\n",
       "    }\n",
       "</style>\n",
       "<table border=\"1\" class=\"dataframe\">\n",
       "  <thead>\n",
       "    <tr style=\"text-align: right;\">\n",
       "      <th></th>\n",
       "      <th>Date</th>\n",
       "      <th>Location</th>\n",
       "      <th>Lemon</th>\n",
       "      <th>Orange</th>\n",
       "      <th>Temperature</th>\n",
       "      <th>Leaflets</th>\n",
       "      <th>Price</th>\n",
       "    </tr>\n",
       "  </thead>\n",
       "  <tbody>\n",
       "    <tr>\n",
       "      <td>6</td>\n",
       "      <td>07/06/2016</td>\n",
       "      <td>Beach</td>\n",
       "      <td>103</td>\n",
       "      <td>69</td>\n",
       "      <td>82</td>\n",
       "      <td>90.0</td>\n",
       "      <td>0.25</td>\n",
       "    </tr>\n",
       "  </tbody>\n",
       "</table>\n",
       "</div>"
      ],
      "text/plain": [
       "         Date Location  Lemon  Orange  Temperature  Leaflets  Price\n",
       "6  07/06/2016    Beach    103      69           82      90.0   0.25"
      ]
     },
     "execution_count": 43,
     "metadata": {},
     "output_type": "execute_result"
    }
   ],
   "source": [
    "#Verifica valor faltante\n",
    "Lemonades[Lemonades.duplicated()]"
   ]
  },
  {
   "cell_type": "code",
   "execution_count": 44,
   "metadata": {},
   "outputs": [],
   "source": [
    "#Exclui Linhas encontradas\n",
    "Lemonades = Lemonades.drop_duplicates()"
   ]
  },
  {
   "cell_type": "code",
   "execution_count": 45,
   "metadata": {},
   "outputs": [
    {
     "data": {
      "text/html": [
       "<div>\n",
       "<style scoped>\n",
       "    .dataframe tbody tr th:only-of-type {\n",
       "        vertical-align: middle;\n",
       "    }\n",
       "\n",
       "    .dataframe tbody tr th {\n",
       "        vertical-align: top;\n",
       "    }\n",
       "\n",
       "    .dataframe thead th {\n",
       "        text-align: right;\n",
       "    }\n",
       "</style>\n",
       "<table border=\"1\" class=\"dataframe\">\n",
       "  <thead>\n",
       "    <tr style=\"text-align: right;\">\n",
       "      <th></th>\n",
       "      <th>Date</th>\n",
       "      <th>Location</th>\n",
       "      <th>Lemon</th>\n",
       "      <th>Orange</th>\n",
       "      <th>Temperature</th>\n",
       "      <th>Leaflets</th>\n",
       "      <th>Price</th>\n",
       "    </tr>\n",
       "  </thead>\n",
       "  <tbody>\n",
       "  </tbody>\n",
       "</table>\n",
       "</div>"
      ],
      "text/plain": [
       "Empty DataFrame\n",
       "Columns: [Date, Location, Lemon, Orange, Temperature, Leaflets, Price]\n",
       "Index: []"
      ]
     },
     "execution_count": 45,
     "metadata": {},
     "output_type": "execute_result"
    }
   ],
   "source": [
    "#Verifica se ainda temos linhas duplicadas\n",
    "Lemonades[Lemonades.duplicated()]"
   ]
  },
  {
   "cell_type": "markdown",
   "metadata": {},
   "source": [
    "### c. trate os elementos faltantes (interpolação (data) e media)"
   ]
  },
  {
   "cell_type": "code",
   "execution_count": 46,
   "metadata": {},
   "outputs": [],
   "source": [
    "#Tratamento da Coluna Leaflets\n",
    "Lemonades['Leaflets'] = Lemonades['Leaflets'].fillna(Lemonades['Leaflets'].mean())"
   ]
  },
  {
   "cell_type": "code",
   "execution_count": 47,
   "metadata": {},
   "outputs": [],
   "source": [
    "#Tratamento e indexando a Coluna Date\n",
    "Lemonades['Date'] = Lemonades['Date'].fillna('07/08/2016')\n",
    "Lemonades['Date'] = pd.to_datetime(Lemonades['Date'])\n",
    "Lemonades = Lemonades.set_index('Date')"
   ]
  },
  {
   "cell_type": "code",
   "execution_count": 48,
   "metadata": {},
   "outputs": [
    {
     "data": {
      "text/html": [
       "<div>\n",
       "<style scoped>\n",
       "    .dataframe tbody tr th:only-of-type {\n",
       "        vertical-align: middle;\n",
       "    }\n",
       "\n",
       "    .dataframe tbody tr th {\n",
       "        vertical-align: top;\n",
       "    }\n",
       "\n",
       "    .dataframe thead th {\n",
       "        text-align: right;\n",
       "    }\n",
       "</style>\n",
       "<table border=\"1\" class=\"dataframe\">\n",
       "  <thead>\n",
       "    <tr style=\"text-align: right;\">\n",
       "      <th></th>\n",
       "      <th>Location</th>\n",
       "      <th>Lemon</th>\n",
       "      <th>Orange</th>\n",
       "      <th>Temperature</th>\n",
       "      <th>Leaflets</th>\n",
       "      <th>Price</th>\n",
       "    </tr>\n",
       "    <tr>\n",
       "      <th>Date</th>\n",
       "      <th></th>\n",
       "      <th></th>\n",
       "      <th></th>\n",
       "      <th></th>\n",
       "      <th></th>\n",
       "      <th></th>\n",
       "    </tr>\n",
       "  </thead>\n",
       "  <tbody>\n",
       "    <tr>\n",
       "      <td>2016-07-01</td>\n",
       "      <td>Park</td>\n",
       "      <td>97</td>\n",
       "      <td>67</td>\n",
       "      <td>70</td>\n",
       "      <td>90.000000</td>\n",
       "      <td>0.25</td>\n",
       "    </tr>\n",
       "    <tr>\n",
       "      <td>2016-07-02</td>\n",
       "      <td>Park</td>\n",
       "      <td>98</td>\n",
       "      <td>67</td>\n",
       "      <td>72</td>\n",
       "      <td>90.000000</td>\n",
       "      <td>0.25</td>\n",
       "    </tr>\n",
       "    <tr>\n",
       "      <td>2016-07-03</td>\n",
       "      <td>Park</td>\n",
       "      <td>110</td>\n",
       "      <td>77</td>\n",
       "      <td>71</td>\n",
       "      <td>104.000000</td>\n",
       "      <td>0.25</td>\n",
       "    </tr>\n",
       "    <tr>\n",
       "      <td>2016-07-04</td>\n",
       "      <td>Beach</td>\n",
       "      <td>134</td>\n",
       "      <td>99</td>\n",
       "      <td>76</td>\n",
       "      <td>98.000000</td>\n",
       "      <td>0.25</td>\n",
       "    </tr>\n",
       "    <tr>\n",
       "      <td>2016-07-05</td>\n",
       "      <td>Beach</td>\n",
       "      <td>159</td>\n",
       "      <td>118</td>\n",
       "      <td>78</td>\n",
       "      <td>135.000000</td>\n",
       "      <td>0.25</td>\n",
       "    </tr>\n",
       "    <tr>\n",
       "      <td>2016-07-06</td>\n",
       "      <td>Beach</td>\n",
       "      <td>103</td>\n",
       "      <td>69</td>\n",
       "      <td>82</td>\n",
       "      <td>90.000000</td>\n",
       "      <td>0.25</td>\n",
       "    </tr>\n",
       "    <tr>\n",
       "      <td>2016-07-07</td>\n",
       "      <td>Beach</td>\n",
       "      <td>143</td>\n",
       "      <td>101</td>\n",
       "      <td>81</td>\n",
       "      <td>135.000000</td>\n",
       "      <td>0.25</td>\n",
       "    </tr>\n",
       "    <tr>\n",
       "      <td>2016-07-08</td>\n",
       "      <td>Beach</td>\n",
       "      <td>123</td>\n",
       "      <td>86</td>\n",
       "      <td>82</td>\n",
       "      <td>113.000000</td>\n",
       "      <td>0.25</td>\n",
       "    </tr>\n",
       "    <tr>\n",
       "      <td>2016-07-09</td>\n",
       "      <td>Beach</td>\n",
       "      <td>134</td>\n",
       "      <td>95</td>\n",
       "      <td>80</td>\n",
       "      <td>126.000000</td>\n",
       "      <td>0.25</td>\n",
       "    </tr>\n",
       "    <tr>\n",
       "      <td>2016-07-10</td>\n",
       "      <td>Beach</td>\n",
       "      <td>140</td>\n",
       "      <td>98</td>\n",
       "      <td>82</td>\n",
       "      <td>131.000000</td>\n",
       "      <td>0.25</td>\n",
       "    </tr>\n",
       "    <tr>\n",
       "      <td>2016-07-11</td>\n",
       "      <td>Beach</td>\n",
       "      <td>162</td>\n",
       "      <td>120</td>\n",
       "      <td>83</td>\n",
       "      <td>135.000000</td>\n",
       "      <td>0.25</td>\n",
       "    </tr>\n",
       "    <tr>\n",
       "      <td>2016-07-12</td>\n",
       "      <td>Beach</td>\n",
       "      <td>130</td>\n",
       "      <td>95</td>\n",
       "      <td>84</td>\n",
       "      <td>99.000000</td>\n",
       "      <td>0.25</td>\n",
       "    </tr>\n",
       "    <tr>\n",
       "      <td>2016-07-13</td>\n",
       "      <td>Beach</td>\n",
       "      <td>109</td>\n",
       "      <td>75</td>\n",
       "      <td>77</td>\n",
       "      <td>99.000000</td>\n",
       "      <td>0.25</td>\n",
       "    </tr>\n",
       "    <tr>\n",
       "      <td>2016-07-14</td>\n",
       "      <td>Beach</td>\n",
       "      <td>122</td>\n",
       "      <td>85</td>\n",
       "      <td>78</td>\n",
       "      <td>113.000000</td>\n",
       "      <td>0.25</td>\n",
       "    </tr>\n",
       "    <tr>\n",
       "      <td>2016-07-15</td>\n",
       "      <td>Beach</td>\n",
       "      <td>98</td>\n",
       "      <td>62</td>\n",
       "      <td>75</td>\n",
       "      <td>108.000000</td>\n",
       "      <td>0.50</td>\n",
       "    </tr>\n",
       "    <tr>\n",
       "      <td>2016-07-16</td>\n",
       "      <td>Beach</td>\n",
       "      <td>81</td>\n",
       "      <td>50</td>\n",
       "      <td>74</td>\n",
       "      <td>90.000000</td>\n",
       "      <td>0.50</td>\n",
       "    </tr>\n",
       "    <tr>\n",
       "      <td>2016-07-17</td>\n",
       "      <td>Beach</td>\n",
       "      <td>115</td>\n",
       "      <td>76</td>\n",
       "      <td>77</td>\n",
       "      <td>126.000000</td>\n",
       "      <td>0.50</td>\n",
       "    </tr>\n",
       "    <tr>\n",
       "      <td>2016-07-18</td>\n",
       "      <td>Park</td>\n",
       "      <td>131</td>\n",
       "      <td>92</td>\n",
       "      <td>81</td>\n",
       "      <td>122.000000</td>\n",
       "      <td>0.50</td>\n",
       "    </tr>\n",
       "    <tr>\n",
       "      <td>2016-07-19</td>\n",
       "      <td>Park</td>\n",
       "      <td>122</td>\n",
       "      <td>85</td>\n",
       "      <td>78</td>\n",
       "      <td>113.000000</td>\n",
       "      <td>0.50</td>\n",
       "    </tr>\n",
       "    <tr>\n",
       "      <td>2016-07-20</td>\n",
       "      <td>Park</td>\n",
       "      <td>71</td>\n",
       "      <td>42</td>\n",
       "      <td>70</td>\n",
       "      <td>109.166667</td>\n",
       "      <td>0.50</td>\n",
       "    </tr>\n",
       "    <tr>\n",
       "      <td>2016-07-21</td>\n",
       "      <td>Park</td>\n",
       "      <td>83</td>\n",
       "      <td>50</td>\n",
       "      <td>77</td>\n",
       "      <td>90.000000</td>\n",
       "      <td>0.50</td>\n",
       "    </tr>\n",
       "    <tr>\n",
       "      <td>2016-07-22</td>\n",
       "      <td>Park</td>\n",
       "      <td>112</td>\n",
       "      <td>75</td>\n",
       "      <td>80</td>\n",
       "      <td>108.000000</td>\n",
       "      <td>0.50</td>\n",
       "    </tr>\n",
       "    <tr>\n",
       "      <td>2016-07-23</td>\n",
       "      <td>Park</td>\n",
       "      <td>120</td>\n",
       "      <td>82</td>\n",
       "      <td>81</td>\n",
       "      <td>117.000000</td>\n",
       "      <td>0.50</td>\n",
       "    </tr>\n",
       "    <tr>\n",
       "      <td>2016-07-24</td>\n",
       "      <td>Park</td>\n",
       "      <td>121</td>\n",
       "      <td>82</td>\n",
       "      <td>82</td>\n",
       "      <td>117.000000</td>\n",
       "      <td>0.50</td>\n",
       "    </tr>\n",
       "    <tr>\n",
       "      <td>2016-07-25</td>\n",
       "      <td>Park</td>\n",
       "      <td>156</td>\n",
       "      <td>113</td>\n",
       "      <td>84</td>\n",
       "      <td>135.000000</td>\n",
       "      <td>0.50</td>\n",
       "    </tr>\n",
       "    <tr>\n",
       "      <td>2016-07-26</td>\n",
       "      <td>Park</td>\n",
       "      <td>176</td>\n",
       "      <td>129</td>\n",
       "      <td>83</td>\n",
       "      <td>158.000000</td>\n",
       "      <td>0.35</td>\n",
       "    </tr>\n",
       "    <tr>\n",
       "      <td>2016-07-27</td>\n",
       "      <td>Park</td>\n",
       "      <td>104</td>\n",
       "      <td>68</td>\n",
       "      <td>80</td>\n",
       "      <td>99.000000</td>\n",
       "      <td>0.35</td>\n",
       "    </tr>\n",
       "    <tr>\n",
       "      <td>2016-07-28</td>\n",
       "      <td>Park</td>\n",
       "      <td>96</td>\n",
       "      <td>63</td>\n",
       "      <td>82</td>\n",
       "      <td>90.000000</td>\n",
       "      <td>0.35</td>\n",
       "    </tr>\n",
       "    <tr>\n",
       "      <td>2016-07-29</td>\n",
       "      <td>Park</td>\n",
       "      <td>100</td>\n",
       "      <td>66</td>\n",
       "      <td>81</td>\n",
       "      <td>95.000000</td>\n",
       "      <td>0.35</td>\n",
       "    </tr>\n",
       "    <tr>\n",
       "      <td>2016-07-30</td>\n",
       "      <td>Beach</td>\n",
       "      <td>88</td>\n",
       "      <td>57</td>\n",
       "      <td>82</td>\n",
       "      <td>81.000000</td>\n",
       "      <td>0.35</td>\n",
       "    </tr>\n",
       "    <tr>\n",
       "      <td>2016-07-31</td>\n",
       "      <td>Beach</td>\n",
       "      <td>76</td>\n",
       "      <td>47</td>\n",
       "      <td>82</td>\n",
       "      <td>68.000000</td>\n",
       "      <td>0.35</td>\n",
       "    </tr>\n",
       "  </tbody>\n",
       "</table>\n",
       "</div>"
      ],
      "text/plain": [
       "           Location  Lemon  Orange  Temperature    Leaflets  Price\n",
       "Date                                                              \n",
       "2016-07-01     Park     97      67           70   90.000000   0.25\n",
       "2016-07-02     Park     98      67           72   90.000000   0.25\n",
       "2016-07-03     Park    110      77           71  104.000000   0.25\n",
       "2016-07-04    Beach    134      99           76   98.000000   0.25\n",
       "2016-07-05    Beach    159     118           78  135.000000   0.25\n",
       "2016-07-06    Beach    103      69           82   90.000000   0.25\n",
       "2016-07-07    Beach    143     101           81  135.000000   0.25\n",
       "2016-07-08    Beach    123      86           82  113.000000   0.25\n",
       "2016-07-09    Beach    134      95           80  126.000000   0.25\n",
       "2016-07-10    Beach    140      98           82  131.000000   0.25\n",
       "2016-07-11    Beach    162     120           83  135.000000   0.25\n",
       "2016-07-12    Beach    130      95           84   99.000000   0.25\n",
       "2016-07-13    Beach    109      75           77   99.000000   0.25\n",
       "2016-07-14    Beach    122      85           78  113.000000   0.25\n",
       "2016-07-15    Beach     98      62           75  108.000000   0.50\n",
       "2016-07-16    Beach     81      50           74   90.000000   0.50\n",
       "2016-07-17    Beach    115      76           77  126.000000   0.50\n",
       "2016-07-18     Park    131      92           81  122.000000   0.50\n",
       "2016-07-19     Park    122      85           78  113.000000   0.50\n",
       "2016-07-20     Park     71      42           70  109.166667   0.50\n",
       "2016-07-21     Park     83      50           77   90.000000   0.50\n",
       "2016-07-22     Park    112      75           80  108.000000   0.50\n",
       "2016-07-23     Park    120      82           81  117.000000   0.50\n",
       "2016-07-24     Park    121      82           82  117.000000   0.50\n",
       "2016-07-25     Park    156     113           84  135.000000   0.50\n",
       "2016-07-26     Park    176     129           83  158.000000   0.35\n",
       "2016-07-27     Park    104      68           80   99.000000   0.35\n",
       "2016-07-28     Park     96      63           82   90.000000   0.35\n",
       "2016-07-29     Park    100      66           81   95.000000   0.35\n",
       "2016-07-30    Beach     88      57           82   81.000000   0.35\n",
       "2016-07-31    Beach     76      47           82   68.000000   0.35"
      ]
     },
     "execution_count": 48,
     "metadata": {},
     "output_type": "execute_result"
    }
   ],
   "source": [
    "#Tratamento de dado faltante da Coluna Date com interpolate\n",
    "Lemonades.interpolate(method ='linear') "
   ]
  },
  {
   "cell_type": "markdown",
   "metadata": {},
   "source": [
    "## 4. Adicione uma coluna chamada \"Sales\" que contém o total de vendas de limão e laranja\n"
   ]
  },
  {
   "cell_type": "code",
   "execution_count": 49,
   "metadata": {},
   "outputs": [
    {
     "data": {
      "text/html": [
       "<div>\n",
       "<style scoped>\n",
       "    .dataframe tbody tr th:only-of-type {\n",
       "        vertical-align: middle;\n",
       "    }\n",
       "\n",
       "    .dataframe tbody tr th {\n",
       "        vertical-align: top;\n",
       "    }\n",
       "\n",
       "    .dataframe thead th {\n",
       "        text-align: right;\n",
       "    }\n",
       "</style>\n",
       "<table border=\"1\" class=\"dataframe\">\n",
       "  <thead>\n",
       "    <tr style=\"text-align: right;\">\n",
       "      <th></th>\n",
       "      <th>Location</th>\n",
       "      <th>Lemon</th>\n",
       "      <th>Orange</th>\n",
       "      <th>Temperature</th>\n",
       "      <th>Leaflets</th>\n",
       "      <th>Price</th>\n",
       "      <th>Sales</th>\n",
       "    </tr>\n",
       "    <tr>\n",
       "      <th>Date</th>\n",
       "      <th></th>\n",
       "      <th></th>\n",
       "      <th></th>\n",
       "      <th></th>\n",
       "      <th></th>\n",
       "      <th></th>\n",
       "      <th></th>\n",
       "    </tr>\n",
       "  </thead>\n",
       "  <tbody>\n",
       "    <tr>\n",
       "      <td>2016-07-01</td>\n",
       "      <td>Park</td>\n",
       "      <td>97</td>\n",
       "      <td>67</td>\n",
       "      <td>70</td>\n",
       "      <td>90.0</td>\n",
       "      <td>0.25</td>\n",
       "      <td>164</td>\n",
       "    </tr>\n",
       "    <tr>\n",
       "      <td>2016-07-02</td>\n",
       "      <td>Park</td>\n",
       "      <td>98</td>\n",
       "      <td>67</td>\n",
       "      <td>72</td>\n",
       "      <td>90.0</td>\n",
       "      <td>0.25</td>\n",
       "      <td>165</td>\n",
       "    </tr>\n",
       "    <tr>\n",
       "      <td>2016-07-03</td>\n",
       "      <td>Park</td>\n",
       "      <td>110</td>\n",
       "      <td>77</td>\n",
       "      <td>71</td>\n",
       "      <td>104.0</td>\n",
       "      <td>0.25</td>\n",
       "      <td>187</td>\n",
       "    </tr>\n",
       "    <tr>\n",
       "      <td>2016-07-04</td>\n",
       "      <td>Beach</td>\n",
       "      <td>134</td>\n",
       "      <td>99</td>\n",
       "      <td>76</td>\n",
       "      <td>98.0</td>\n",
       "      <td>0.25</td>\n",
       "      <td>233</td>\n",
       "    </tr>\n",
       "    <tr>\n",
       "      <td>2016-07-05</td>\n",
       "      <td>Beach</td>\n",
       "      <td>159</td>\n",
       "      <td>118</td>\n",
       "      <td>78</td>\n",
       "      <td>135.0</td>\n",
       "      <td>0.25</td>\n",
       "      <td>277</td>\n",
       "    </tr>\n",
       "  </tbody>\n",
       "</table>\n",
       "</div>"
      ],
      "text/plain": [
       "           Location  Lemon  Orange  Temperature  Leaflets  Price  Sales\n",
       "Date                                                                   \n",
       "2016-07-01     Park     97      67           70      90.0   0.25    164\n",
       "2016-07-02     Park     98      67           72      90.0   0.25    165\n",
       "2016-07-03     Park    110      77           71     104.0   0.25    187\n",
       "2016-07-04    Beach    134      99           76      98.0   0.25    233\n",
       "2016-07-05    Beach    159     118           78     135.0   0.25    277"
      ]
     },
     "execution_count": 49,
     "metadata": {},
     "output_type": "execute_result"
    }
   ],
   "source": [
    "Lemonades['Sales'] = Lemonades['Orange'] + Lemonades['Lemon']\n",
    "Lemonades.head()"
   ]
  },
  {
   "cell_type": "markdown",
   "metadata": {},
   "source": [
    "## 5. Adicione uma coluna chamada \"Revenue\" que calcula o lucro (venda*preço)\n"
   ]
  },
  {
   "cell_type": "code",
   "execution_count": 50,
   "metadata": {},
   "outputs": [
    {
     "data": {
      "text/html": [
       "<div>\n",
       "<style scoped>\n",
       "    .dataframe tbody tr th:only-of-type {\n",
       "        vertical-align: middle;\n",
       "    }\n",
       "\n",
       "    .dataframe tbody tr th {\n",
       "        vertical-align: top;\n",
       "    }\n",
       "\n",
       "    .dataframe thead th {\n",
       "        text-align: right;\n",
       "    }\n",
       "</style>\n",
       "<table border=\"1\" class=\"dataframe\">\n",
       "  <thead>\n",
       "    <tr style=\"text-align: right;\">\n",
       "      <th></th>\n",
       "      <th>Location</th>\n",
       "      <th>Lemon</th>\n",
       "      <th>Orange</th>\n",
       "      <th>Temperature</th>\n",
       "      <th>Leaflets</th>\n",
       "      <th>Price</th>\n",
       "      <th>Sales</th>\n",
       "      <th>Revenue</th>\n",
       "    </tr>\n",
       "    <tr>\n",
       "      <th>Date</th>\n",
       "      <th></th>\n",
       "      <th></th>\n",
       "      <th></th>\n",
       "      <th></th>\n",
       "      <th></th>\n",
       "      <th></th>\n",
       "      <th></th>\n",
       "      <th></th>\n",
       "    </tr>\n",
       "  </thead>\n",
       "  <tbody>\n",
       "    <tr>\n",
       "      <td>2016-07-01</td>\n",
       "      <td>Park</td>\n",
       "      <td>97</td>\n",
       "      <td>67</td>\n",
       "      <td>70</td>\n",
       "      <td>90.0</td>\n",
       "      <td>0.25</td>\n",
       "      <td>164</td>\n",
       "      <td>41.00</td>\n",
       "    </tr>\n",
       "    <tr>\n",
       "      <td>2016-07-02</td>\n",
       "      <td>Park</td>\n",
       "      <td>98</td>\n",
       "      <td>67</td>\n",
       "      <td>72</td>\n",
       "      <td>90.0</td>\n",
       "      <td>0.25</td>\n",
       "      <td>165</td>\n",
       "      <td>41.25</td>\n",
       "    </tr>\n",
       "    <tr>\n",
       "      <td>2016-07-03</td>\n",
       "      <td>Park</td>\n",
       "      <td>110</td>\n",
       "      <td>77</td>\n",
       "      <td>71</td>\n",
       "      <td>104.0</td>\n",
       "      <td>0.25</td>\n",
       "      <td>187</td>\n",
       "      <td>46.75</td>\n",
       "    </tr>\n",
       "    <tr>\n",
       "      <td>2016-07-04</td>\n",
       "      <td>Beach</td>\n",
       "      <td>134</td>\n",
       "      <td>99</td>\n",
       "      <td>76</td>\n",
       "      <td>98.0</td>\n",
       "      <td>0.25</td>\n",
       "      <td>233</td>\n",
       "      <td>58.25</td>\n",
       "    </tr>\n",
       "    <tr>\n",
       "      <td>2016-07-05</td>\n",
       "      <td>Beach</td>\n",
       "      <td>159</td>\n",
       "      <td>118</td>\n",
       "      <td>78</td>\n",
       "      <td>135.0</td>\n",
       "      <td>0.25</td>\n",
       "      <td>277</td>\n",
       "      <td>69.25</td>\n",
       "    </tr>\n",
       "  </tbody>\n",
       "</table>\n",
       "</div>"
      ],
      "text/plain": [
       "           Location  Lemon  Orange  Temperature  Leaflets  Price  Sales  \\\n",
       "Date                                                                      \n",
       "2016-07-01     Park     97      67           70      90.0   0.25    164   \n",
       "2016-07-02     Park     98      67           72      90.0   0.25    165   \n",
       "2016-07-03     Park    110      77           71     104.0   0.25    187   \n",
       "2016-07-04    Beach    134      99           76      98.0   0.25    233   \n",
       "2016-07-05    Beach    159     118           78     135.0   0.25    277   \n",
       "\n",
       "            Revenue  \n",
       "Date                 \n",
       "2016-07-01    41.00  \n",
       "2016-07-02    41.25  \n",
       "2016-07-03    46.75  \n",
       "2016-07-04    58.25  \n",
       "2016-07-05    69.25  "
      ]
     },
     "execution_count": 50,
     "metadata": {},
     "output_type": "execute_result"
    }
   ],
   "source": [
    "Lemonades['Revenue'] = Lemonades['Sales'] * Lemonades['Price']\n",
    "Lemonades.head()"
   ]
  },
  {
   "cell_type": "markdown",
   "metadata": {},
   "source": [
    "## 6. Escreva uma função que retorne o lucro total\n"
   ]
  },
  {
   "cell_type": "code",
   "execution_count": 51,
   "metadata": {},
   "outputs": [],
   "source": [
    "def calc_total(df):\n",
    "    return df['Revenue'].sum()\n",
    "\n",
    "lemonades = calc_total(Lemonades)"
   ]
  },
  {
   "cell_type": "markdown",
   "metadata": {},
   "source": [
    "## 7. Escreva uma função que receba dois parâmetros, dataset e temp(int). Se temp for 1, ele retorna a máxima temperatura observada no conjunto de dados; se 0, retorna a média do período observado; se -1, retorna a temperatura mínima\n"
   ]
  },
  {
   "cell_type": "code",
   "execution_count": 52,
   "metadata": {},
   "outputs": [
    {
     "name": "stdout",
     "output_type": "stream",
     "text": [
      "84\n",
      "78.87096774193549\n",
      "70\n"
     ]
    }
   ],
   "source": [
    "def multi_calculate(df, temp):\n",
    "    if temp == 1:\n",
    "        return df['Temperature'].max()\n",
    "    elif temp == 0:\n",
    "        return df['Temperature'].mean()\n",
    "    elif temp == -1:\n",
    "        return df['Temperature'].min()\n",
    "    \n",
    "print(multi_calculate(Lemonades, 1))\n",
    "print(multi_calculate(Lemonades, 0))\n",
    "print(multi_calculate(Lemonades, -1))"
   ]
  },
  {
   "cell_type": "markdown",
   "metadata": {},
   "source": [
    "## 8. Escreva uma função que receba dois parâmetros (dataset, localização) e retorne o dataset com o preço do limão e laranja ajustados em 15% se a localização for 'Park' ou ajustados em 10% se a localização for 'Beach'\n"
   ]
  },
  {
   "cell_type": "code",
   "execution_count": 53,
   "metadata": {},
   "outputs": [],
   "source": [
    "def adjust(data, loc):\n",
    "    if loc == 'Park':\n",
    "        for row in data.itertuples():\n",
    "            if row.Location == loc:\n",
    "                data.at[row.Index, 'Price'] = row.Price * 1.15\n",
    "        return data \n",
    "    elif loc == 'Beach':\n",
    "        for row in data.itertuples():\n",
    "            if row.Location == loc:\n",
    "                data.at[row.Index, 'Price'] = row.Price * 1.10\n",
    "        return data\n",
    "    else:\n",
    "        return 'You need to specify Park or Beach'\n",
    "    \n"
   ]
  },
  {
   "cell_type": "code",
   "execution_count": 54,
   "metadata": {},
   "outputs": [
    {
     "name": "stdout",
     "output_type": "stream",
     "text": [
      "           Location  Lemon  Orange  Temperature  Leaflets  Price  Sales  \\\n",
      "Date                                                                      \n",
      "2016-07-01     Park     97      67           70      90.0  0.250    164   \n",
      "2016-07-02     Park     98      67           72      90.0  0.250    165   \n",
      "2016-07-03     Park    110      77           71     104.0  0.250    187   \n",
      "2016-07-04    Beach    134      99           76      98.0  0.275    233   \n",
      "2016-07-05    Beach    159     118           78     135.0  0.275    277   \n",
      "\n",
      "            Revenue  \n",
      "Date                 \n",
      "2016-07-01    41.00  \n",
      "2016-07-02    41.25  \n",
      "2016-07-03    46.75  \n",
      "2016-07-04    58.25  \n",
      "2016-07-05    69.25  \n",
      "           Location  Lemon  Orange  Temperature  Leaflets   Price  Sales  \\\n",
      "Date                                                                       \n",
      "2016-07-01     Park     97      67           70      90.0  0.2875    164   \n",
      "2016-07-02     Park     98      67           72      90.0  0.2875    165   \n",
      "2016-07-03     Park    110      77           71     104.0  0.2875    187   \n",
      "2016-07-04    Beach    134      99           76      98.0  0.2750    233   \n",
      "2016-07-05    Beach    159     118           78     135.0  0.2750    277   \n",
      "\n",
      "            Revenue  \n",
      "Date                 \n",
      "2016-07-01    41.00  \n",
      "2016-07-02    41.25  \n",
      "2016-07-03    46.75  \n",
      "2016-07-04    58.25  \n",
      "2016-07-05    69.25  \n"
     ]
    }
   ],
   "source": [
    "beachdf = adjust(Lemonades, 'Beach')\n",
    "print(beachdf.head())\n",
    "parkdf = adjust(Lemonades, 'Park')\n",
    "print(parkdf.head())\n"
   ]
  },
  {
   "cell_type": "code",
   "execution_count": 55,
   "metadata": {},
   "outputs": [
    {
     "data": {
      "text/html": [
       "<div>\n",
       "<style scoped>\n",
       "    .dataframe tbody tr th:only-of-type {\n",
       "        vertical-align: middle;\n",
       "    }\n",
       "\n",
       "    .dataframe tbody tr th {\n",
       "        vertical-align: top;\n",
       "    }\n",
       "\n",
       "    .dataframe thead th {\n",
       "        text-align: right;\n",
       "    }\n",
       "</style>\n",
       "<table border=\"1\" class=\"dataframe\">\n",
       "  <thead>\n",
       "    <tr style=\"text-align: right;\">\n",
       "      <th></th>\n",
       "      <th>Location</th>\n",
       "      <th>Lemon</th>\n",
       "      <th>Orange</th>\n",
       "      <th>Temperature</th>\n",
       "      <th>Leaflets</th>\n",
       "      <th>Price</th>\n",
       "      <th>Sales</th>\n",
       "      <th>Revenue</th>\n",
       "    </tr>\n",
       "    <tr>\n",
       "      <th>Date</th>\n",
       "      <th></th>\n",
       "      <th></th>\n",
       "      <th></th>\n",
       "      <th></th>\n",
       "      <th></th>\n",
       "      <th></th>\n",
       "      <th></th>\n",
       "      <th></th>\n",
       "    </tr>\n",
       "  </thead>\n",
       "  <tbody>\n",
       "    <tr>\n",
       "      <td>2016-07-01</td>\n",
       "      <td>Park</td>\n",
       "      <td>97</td>\n",
       "      <td>67</td>\n",
       "      <td>70</td>\n",
       "      <td>90.0</td>\n",
       "      <td>0.2875</td>\n",
       "      <td>164</td>\n",
       "      <td>41.00</td>\n",
       "    </tr>\n",
       "    <tr>\n",
       "      <td>2016-07-02</td>\n",
       "      <td>Park</td>\n",
       "      <td>98</td>\n",
       "      <td>67</td>\n",
       "      <td>72</td>\n",
       "      <td>90.0</td>\n",
       "      <td>0.2875</td>\n",
       "      <td>165</td>\n",
       "      <td>41.25</td>\n",
       "    </tr>\n",
       "    <tr>\n",
       "      <td>2016-07-03</td>\n",
       "      <td>Park</td>\n",
       "      <td>110</td>\n",
       "      <td>77</td>\n",
       "      <td>71</td>\n",
       "      <td>104.0</td>\n",
       "      <td>0.2875</td>\n",
       "      <td>187</td>\n",
       "      <td>46.75</td>\n",
       "    </tr>\n",
       "    <tr>\n",
       "      <td>2016-07-04</td>\n",
       "      <td>Beach</td>\n",
       "      <td>134</td>\n",
       "      <td>99</td>\n",
       "      <td>76</td>\n",
       "      <td>98.0</td>\n",
       "      <td>0.3025</td>\n",
       "      <td>233</td>\n",
       "      <td>58.25</td>\n",
       "    </tr>\n",
       "    <tr>\n",
       "      <td>2016-07-05</td>\n",
       "      <td>Beach</td>\n",
       "      <td>159</td>\n",
       "      <td>118</td>\n",
       "      <td>78</td>\n",
       "      <td>135.0</td>\n",
       "      <td>0.3025</td>\n",
       "      <td>277</td>\n",
       "      <td>69.25</td>\n",
       "    </tr>\n",
       "  </tbody>\n",
       "</table>\n",
       "</div>"
      ],
      "text/plain": [
       "           Location  Lemon  Orange  Temperature  Leaflets   Price  Sales  \\\n",
       "Date                                                                       \n",
       "2016-07-01     Park     97      67           70      90.0  0.2875    164   \n",
       "2016-07-02     Park     98      67           72      90.0  0.2875    165   \n",
       "2016-07-03     Park    110      77           71     104.0  0.2875    187   \n",
       "2016-07-04    Beach    134      99           76      98.0  0.3025    233   \n",
       "2016-07-05    Beach    159     118           78     135.0  0.3025    277   \n",
       "\n",
       "            Revenue  \n",
       "Date                 \n",
       "2016-07-01    41.00  \n",
       "2016-07-02    41.25  \n",
       "2016-07-03    46.75  \n",
       "2016-07-04    58.25  \n",
       "2016-07-05    69.25  "
      ]
     },
     "execution_count": 55,
     "metadata": {},
     "output_type": "execute_result"
    }
   ],
   "source": [
    "df = adjust(Lemonades, 'Beach')\n",
    "df.head()"
   ]
  },
  {
   "cell_type": "markdown",
   "metadata": {},
   "source": [
    "## 9. Escreva uma função que receba o dataset como parâmetro e retorne o dataset com uma coluna a mais que mostre o rank de temperatura. O dataset retornado precisa estar ordenado de acordo com rank (descendente)\n"
   ]
  },
  {
   "cell_type": "code",
   "execution_count": 56,
   "metadata": {},
   "outputs": [
    {
     "data": {
      "text/html": [
       "<div>\n",
       "<style scoped>\n",
       "    .dataframe tbody tr th:only-of-type {\n",
       "        vertical-align: middle;\n",
       "    }\n",
       "\n",
       "    .dataframe tbody tr th {\n",
       "        vertical-align: top;\n",
       "    }\n",
       "\n",
       "    .dataframe thead th {\n",
       "        text-align: right;\n",
       "    }\n",
       "</style>\n",
       "<table border=\"1\" class=\"dataframe\">\n",
       "  <thead>\n",
       "    <tr style=\"text-align: right;\">\n",
       "      <th></th>\n",
       "      <th>Location</th>\n",
       "      <th>Lemon</th>\n",
       "      <th>Orange</th>\n",
       "      <th>Temperature</th>\n",
       "      <th>Leaflets</th>\n",
       "      <th>Price</th>\n",
       "      <th>Sales</th>\n",
       "      <th>Revenue</th>\n",
       "      <th>Rank</th>\n",
       "    </tr>\n",
       "    <tr>\n",
       "      <th>Date</th>\n",
       "      <th></th>\n",
       "      <th></th>\n",
       "      <th></th>\n",
       "      <th></th>\n",
       "      <th></th>\n",
       "      <th></th>\n",
       "      <th></th>\n",
       "      <th></th>\n",
       "      <th></th>\n",
       "    </tr>\n",
       "  </thead>\n",
       "  <tbody>\n",
       "    <tr>\n",
       "      <td>2016-07-25</td>\n",
       "      <td>Park</td>\n",
       "      <td>156</td>\n",
       "      <td>113</td>\n",
       "      <td>84</td>\n",
       "      <td>135.000000</td>\n",
       "      <td>0.5750</td>\n",
       "      <td>269</td>\n",
       "      <td>134.50</td>\n",
       "      <td>1.5</td>\n",
       "    </tr>\n",
       "    <tr>\n",
       "      <td>2016-07-12</td>\n",
       "      <td>Beach</td>\n",
       "      <td>130</td>\n",
       "      <td>95</td>\n",
       "      <td>84</td>\n",
       "      <td>99.000000</td>\n",
       "      <td>0.3025</td>\n",
       "      <td>225</td>\n",
       "      <td>56.25</td>\n",
       "      <td>1.5</td>\n",
       "    </tr>\n",
       "    <tr>\n",
       "      <td>2016-07-26</td>\n",
       "      <td>Park</td>\n",
       "      <td>176</td>\n",
       "      <td>129</td>\n",
       "      <td>83</td>\n",
       "      <td>158.000000</td>\n",
       "      <td>0.4025</td>\n",
       "      <td>305</td>\n",
       "      <td>106.75</td>\n",
       "      <td>3.5</td>\n",
       "    </tr>\n",
       "    <tr>\n",
       "      <td>2016-07-11</td>\n",
       "      <td>Beach</td>\n",
       "      <td>162</td>\n",
       "      <td>120</td>\n",
       "      <td>83</td>\n",
       "      <td>135.000000</td>\n",
       "      <td>0.3025</td>\n",
       "      <td>282</td>\n",
       "      <td>70.50</td>\n",
       "      <td>3.5</td>\n",
       "    </tr>\n",
       "    <tr>\n",
       "      <td>2016-07-24</td>\n",
       "      <td>Park</td>\n",
       "      <td>121</td>\n",
       "      <td>82</td>\n",
       "      <td>82</td>\n",
       "      <td>117.000000</td>\n",
       "      <td>0.5750</td>\n",
       "      <td>203</td>\n",
       "      <td>101.50</td>\n",
       "      <td>8.0</td>\n",
       "    </tr>\n",
       "    <tr>\n",
       "      <td>2016-07-30</td>\n",
       "      <td>Beach</td>\n",
       "      <td>88</td>\n",
       "      <td>57</td>\n",
       "      <td>82</td>\n",
       "      <td>81.000000</td>\n",
       "      <td>0.4235</td>\n",
       "      <td>145</td>\n",
       "      <td>50.75</td>\n",
       "      <td>8.0</td>\n",
       "    </tr>\n",
       "    <tr>\n",
       "      <td>2016-07-10</td>\n",
       "      <td>Beach</td>\n",
       "      <td>140</td>\n",
       "      <td>98</td>\n",
       "      <td>82</td>\n",
       "      <td>131.000000</td>\n",
       "      <td>0.3025</td>\n",
       "      <td>238</td>\n",
       "      <td>59.50</td>\n",
       "      <td>8.0</td>\n",
       "    </tr>\n",
       "    <tr>\n",
       "      <td>2016-07-31</td>\n",
       "      <td>Beach</td>\n",
       "      <td>76</td>\n",
       "      <td>47</td>\n",
       "      <td>82</td>\n",
       "      <td>68.000000</td>\n",
       "      <td>0.4235</td>\n",
       "      <td>123</td>\n",
       "      <td>43.05</td>\n",
       "      <td>8.0</td>\n",
       "    </tr>\n",
       "    <tr>\n",
       "      <td>2016-07-06</td>\n",
       "      <td>Beach</td>\n",
       "      <td>103</td>\n",
       "      <td>69</td>\n",
       "      <td>82</td>\n",
       "      <td>90.000000</td>\n",
       "      <td>0.3025</td>\n",
       "      <td>172</td>\n",
       "      <td>43.00</td>\n",
       "      <td>8.0</td>\n",
       "    </tr>\n",
       "    <tr>\n",
       "      <td>2016-07-28</td>\n",
       "      <td>Park</td>\n",
       "      <td>96</td>\n",
       "      <td>63</td>\n",
       "      <td>82</td>\n",
       "      <td>90.000000</td>\n",
       "      <td>0.4025</td>\n",
       "      <td>159</td>\n",
       "      <td>55.65</td>\n",
       "      <td>8.0</td>\n",
       "    </tr>\n",
       "    <tr>\n",
       "      <td>2016-07-08</td>\n",
       "      <td>Beach</td>\n",
       "      <td>123</td>\n",
       "      <td>86</td>\n",
       "      <td>82</td>\n",
       "      <td>113.000000</td>\n",
       "      <td>0.3025</td>\n",
       "      <td>209</td>\n",
       "      <td>52.25</td>\n",
       "      <td>8.0</td>\n",
       "    </tr>\n",
       "    <tr>\n",
       "      <td>2016-07-07</td>\n",
       "      <td>Beach</td>\n",
       "      <td>143</td>\n",
       "      <td>101</td>\n",
       "      <td>81</td>\n",
       "      <td>135.000000</td>\n",
       "      <td>0.3025</td>\n",
       "      <td>244</td>\n",
       "      <td>61.00</td>\n",
       "      <td>13.5</td>\n",
       "    </tr>\n",
       "    <tr>\n",
       "      <td>2016-07-29</td>\n",
       "      <td>Park</td>\n",
       "      <td>100</td>\n",
       "      <td>66</td>\n",
       "      <td>81</td>\n",
       "      <td>95.000000</td>\n",
       "      <td>0.4025</td>\n",
       "      <td>166</td>\n",
       "      <td>58.10</td>\n",
       "      <td>13.5</td>\n",
       "    </tr>\n",
       "    <tr>\n",
       "      <td>2016-07-23</td>\n",
       "      <td>Park</td>\n",
       "      <td>120</td>\n",
       "      <td>82</td>\n",
       "      <td>81</td>\n",
       "      <td>117.000000</td>\n",
       "      <td>0.5750</td>\n",
       "      <td>202</td>\n",
       "      <td>101.00</td>\n",
       "      <td>13.5</td>\n",
       "    </tr>\n",
       "    <tr>\n",
       "      <td>2016-07-18</td>\n",
       "      <td>Park</td>\n",
       "      <td>131</td>\n",
       "      <td>92</td>\n",
       "      <td>81</td>\n",
       "      <td>122.000000</td>\n",
       "      <td>0.5750</td>\n",
       "      <td>223</td>\n",
       "      <td>111.50</td>\n",
       "      <td>13.5</td>\n",
       "    </tr>\n",
       "    <tr>\n",
       "      <td>2016-07-09</td>\n",
       "      <td>Beach</td>\n",
       "      <td>134</td>\n",
       "      <td>95</td>\n",
       "      <td>80</td>\n",
       "      <td>126.000000</td>\n",
       "      <td>0.3025</td>\n",
       "      <td>229</td>\n",
       "      <td>57.25</td>\n",
       "      <td>17.0</td>\n",
       "    </tr>\n",
       "    <tr>\n",
       "      <td>2016-07-27</td>\n",
       "      <td>Park</td>\n",
       "      <td>104</td>\n",
       "      <td>68</td>\n",
       "      <td>80</td>\n",
       "      <td>99.000000</td>\n",
       "      <td>0.4025</td>\n",
       "      <td>172</td>\n",
       "      <td>60.20</td>\n",
       "      <td>17.0</td>\n",
       "    </tr>\n",
       "    <tr>\n",
       "      <td>2016-07-22</td>\n",
       "      <td>Park</td>\n",
       "      <td>112</td>\n",
       "      <td>75</td>\n",
       "      <td>80</td>\n",
       "      <td>108.000000</td>\n",
       "      <td>0.5750</td>\n",
       "      <td>187</td>\n",
       "      <td>93.50</td>\n",
       "      <td>17.0</td>\n",
       "    </tr>\n",
       "    <tr>\n",
       "      <td>2016-07-05</td>\n",
       "      <td>Beach</td>\n",
       "      <td>159</td>\n",
       "      <td>118</td>\n",
       "      <td>78</td>\n",
       "      <td>135.000000</td>\n",
       "      <td>0.3025</td>\n",
       "      <td>277</td>\n",
       "      <td>69.25</td>\n",
       "      <td>20.0</td>\n",
       "    </tr>\n",
       "    <tr>\n",
       "      <td>2016-07-14</td>\n",
       "      <td>Beach</td>\n",
       "      <td>122</td>\n",
       "      <td>85</td>\n",
       "      <td>78</td>\n",
       "      <td>113.000000</td>\n",
       "      <td>0.3025</td>\n",
       "      <td>207</td>\n",
       "      <td>51.75</td>\n",
       "      <td>20.0</td>\n",
       "    </tr>\n",
       "    <tr>\n",
       "      <td>2016-07-19</td>\n",
       "      <td>Park</td>\n",
       "      <td>122</td>\n",
       "      <td>85</td>\n",
       "      <td>78</td>\n",
       "      <td>113.000000</td>\n",
       "      <td>0.5750</td>\n",
       "      <td>207</td>\n",
       "      <td>103.50</td>\n",
       "      <td>20.0</td>\n",
       "    </tr>\n",
       "    <tr>\n",
       "      <td>2016-07-17</td>\n",
       "      <td>Beach</td>\n",
       "      <td>115</td>\n",
       "      <td>76</td>\n",
       "      <td>77</td>\n",
       "      <td>126.000000</td>\n",
       "      <td>0.6050</td>\n",
       "      <td>191</td>\n",
       "      <td>95.50</td>\n",
       "      <td>23.0</td>\n",
       "    </tr>\n",
       "    <tr>\n",
       "      <td>2016-07-21</td>\n",
       "      <td>Park</td>\n",
       "      <td>83</td>\n",
       "      <td>50</td>\n",
       "      <td>77</td>\n",
       "      <td>90.000000</td>\n",
       "      <td>0.5750</td>\n",
       "      <td>133</td>\n",
       "      <td>66.50</td>\n",
       "      <td>23.0</td>\n",
       "    </tr>\n",
       "    <tr>\n",
       "      <td>2016-07-13</td>\n",
       "      <td>Beach</td>\n",
       "      <td>109</td>\n",
       "      <td>75</td>\n",
       "      <td>77</td>\n",
       "      <td>99.000000</td>\n",
       "      <td>0.3025</td>\n",
       "      <td>184</td>\n",
       "      <td>46.00</td>\n",
       "      <td>23.0</td>\n",
       "    </tr>\n",
       "    <tr>\n",
       "      <td>2016-07-04</td>\n",
       "      <td>Beach</td>\n",
       "      <td>134</td>\n",
       "      <td>99</td>\n",
       "      <td>76</td>\n",
       "      <td>98.000000</td>\n",
       "      <td>0.3025</td>\n",
       "      <td>233</td>\n",
       "      <td>58.25</td>\n",
       "      <td>25.0</td>\n",
       "    </tr>\n",
       "    <tr>\n",
       "      <td>2016-07-15</td>\n",
       "      <td>Beach</td>\n",
       "      <td>98</td>\n",
       "      <td>62</td>\n",
       "      <td>75</td>\n",
       "      <td>108.000000</td>\n",
       "      <td>0.6050</td>\n",
       "      <td>160</td>\n",
       "      <td>80.00</td>\n",
       "      <td>26.0</td>\n",
       "    </tr>\n",
       "    <tr>\n",
       "      <td>2016-07-16</td>\n",
       "      <td>Beach</td>\n",
       "      <td>81</td>\n",
       "      <td>50</td>\n",
       "      <td>74</td>\n",
       "      <td>90.000000</td>\n",
       "      <td>0.6050</td>\n",
       "      <td>131</td>\n",
       "      <td>65.50</td>\n",
       "      <td>27.0</td>\n",
       "    </tr>\n",
       "    <tr>\n",
       "      <td>2016-07-02</td>\n",
       "      <td>Park</td>\n",
       "      <td>98</td>\n",
       "      <td>67</td>\n",
       "      <td>72</td>\n",
       "      <td>90.000000</td>\n",
       "      <td>0.2875</td>\n",
       "      <td>165</td>\n",
       "      <td>41.25</td>\n",
       "      <td>28.0</td>\n",
       "    </tr>\n",
       "    <tr>\n",
       "      <td>2016-07-03</td>\n",
       "      <td>Park</td>\n",
       "      <td>110</td>\n",
       "      <td>77</td>\n",
       "      <td>71</td>\n",
       "      <td>104.000000</td>\n",
       "      <td>0.2875</td>\n",
       "      <td>187</td>\n",
       "      <td>46.75</td>\n",
       "      <td>29.0</td>\n",
       "    </tr>\n",
       "    <tr>\n",
       "      <td>2016-07-20</td>\n",
       "      <td>Park</td>\n",
       "      <td>71</td>\n",
       "      <td>42</td>\n",
       "      <td>70</td>\n",
       "      <td>109.166667</td>\n",
       "      <td>0.5750</td>\n",
       "      <td>113</td>\n",
       "      <td>56.50</td>\n",
       "      <td>30.5</td>\n",
       "    </tr>\n",
       "    <tr>\n",
       "      <td>2016-07-01</td>\n",
       "      <td>Park</td>\n",
       "      <td>97</td>\n",
       "      <td>67</td>\n",
       "      <td>70</td>\n",
       "      <td>90.000000</td>\n",
       "      <td>0.2875</td>\n",
       "      <td>164</td>\n",
       "      <td>41.00</td>\n",
       "      <td>30.5</td>\n",
       "    </tr>\n",
       "  </tbody>\n",
       "</table>\n",
       "</div>"
      ],
      "text/plain": [
       "           Location  Lemon  Orange  Temperature    Leaflets   Price  Sales  \\\n",
       "Date                                                                         \n",
       "2016-07-25     Park    156     113           84  135.000000  0.5750    269   \n",
       "2016-07-12    Beach    130      95           84   99.000000  0.3025    225   \n",
       "2016-07-26     Park    176     129           83  158.000000  0.4025    305   \n",
       "2016-07-11    Beach    162     120           83  135.000000  0.3025    282   \n",
       "2016-07-24     Park    121      82           82  117.000000  0.5750    203   \n",
       "2016-07-30    Beach     88      57           82   81.000000  0.4235    145   \n",
       "2016-07-10    Beach    140      98           82  131.000000  0.3025    238   \n",
       "2016-07-31    Beach     76      47           82   68.000000  0.4235    123   \n",
       "2016-07-06    Beach    103      69           82   90.000000  0.3025    172   \n",
       "2016-07-28     Park     96      63           82   90.000000  0.4025    159   \n",
       "2016-07-08    Beach    123      86           82  113.000000  0.3025    209   \n",
       "2016-07-07    Beach    143     101           81  135.000000  0.3025    244   \n",
       "2016-07-29     Park    100      66           81   95.000000  0.4025    166   \n",
       "2016-07-23     Park    120      82           81  117.000000  0.5750    202   \n",
       "2016-07-18     Park    131      92           81  122.000000  0.5750    223   \n",
       "2016-07-09    Beach    134      95           80  126.000000  0.3025    229   \n",
       "2016-07-27     Park    104      68           80   99.000000  0.4025    172   \n",
       "2016-07-22     Park    112      75           80  108.000000  0.5750    187   \n",
       "2016-07-05    Beach    159     118           78  135.000000  0.3025    277   \n",
       "2016-07-14    Beach    122      85           78  113.000000  0.3025    207   \n",
       "2016-07-19     Park    122      85           78  113.000000  0.5750    207   \n",
       "2016-07-17    Beach    115      76           77  126.000000  0.6050    191   \n",
       "2016-07-21     Park     83      50           77   90.000000  0.5750    133   \n",
       "2016-07-13    Beach    109      75           77   99.000000  0.3025    184   \n",
       "2016-07-04    Beach    134      99           76   98.000000  0.3025    233   \n",
       "2016-07-15    Beach     98      62           75  108.000000  0.6050    160   \n",
       "2016-07-16    Beach     81      50           74   90.000000  0.6050    131   \n",
       "2016-07-02     Park     98      67           72   90.000000  0.2875    165   \n",
       "2016-07-03     Park    110      77           71  104.000000  0.2875    187   \n",
       "2016-07-20     Park     71      42           70  109.166667  0.5750    113   \n",
       "2016-07-01     Park     97      67           70   90.000000  0.2875    164   \n",
       "\n",
       "            Revenue  Rank  \n",
       "Date                       \n",
       "2016-07-25   134.50   1.5  \n",
       "2016-07-12    56.25   1.5  \n",
       "2016-07-26   106.75   3.5  \n",
       "2016-07-11    70.50   3.5  \n",
       "2016-07-24   101.50   8.0  \n",
       "2016-07-30    50.75   8.0  \n",
       "2016-07-10    59.50   8.0  \n",
       "2016-07-31    43.05   8.0  \n",
       "2016-07-06    43.00   8.0  \n",
       "2016-07-28    55.65   8.0  \n",
       "2016-07-08    52.25   8.0  \n",
       "2016-07-07    61.00  13.5  \n",
       "2016-07-29    58.10  13.5  \n",
       "2016-07-23   101.00  13.5  \n",
       "2016-07-18   111.50  13.5  \n",
       "2016-07-09    57.25  17.0  \n",
       "2016-07-27    60.20  17.0  \n",
       "2016-07-22    93.50  17.0  \n",
       "2016-07-05    69.25  20.0  \n",
       "2016-07-14    51.75  20.0  \n",
       "2016-07-19   103.50  20.0  \n",
       "2016-07-17    95.50  23.0  \n",
       "2016-07-21    66.50  23.0  \n",
       "2016-07-13    46.00  23.0  \n",
       "2016-07-04    58.25  25.0  \n",
       "2016-07-15    80.00  26.0  \n",
       "2016-07-16    65.50  27.0  \n",
       "2016-07-02    41.25  28.0  \n",
       "2016-07-03    46.75  29.0  \n",
       "2016-07-20    56.50  30.5  \n",
       "2016-07-01    41.00  30.5  "
      ]
     },
     "execution_count": 56,
     "metadata": {},
     "output_type": "execute_result"
    }
   ],
   "source": [
    "def RankTemperature(df):\n",
    "    df['Rank'] = df['Temperature'].rank(ascending=0)\n",
    "    return df.sort_values(by='Rank')\n",
    "\n",
    "RankTemperature(Lemonades)"
   ]
  },
  {
   "cell_type": "markdown",
   "metadata": {},
   "source": [
    "## 10. Imprima um gráfico de linha que retorne o lucro ao longo do tempo\n"
   ]
  },
  {
   "cell_type": "code",
   "execution_count": 57,
   "metadata": {},
   "outputs": [
    {
     "data": {
      "image/png": "[encoded data removed]",
      "text/plain": [
       "<Figure size 720x360 with 1 Axes>"
      ]
     },
     "metadata": {
      "needs_background": "light"
     },
     "output_type": "display_data"
    }
   ],
   "source": [
    "plt.figure(figsize=(10,5)) \n",
    "Lemonades['Revenue'].plot(linewidth=1, x_compat=True)\n",
    "plt.title('Lucro ao longo do tempo')\n",
    "plt.xlabel('Data')\n",
    "plt.ylabel('Lucro')\n",
    "plt.legend()\n",
    "plt.show()"
   ]
  },
  {
   "cell_type": "markdown",
   "metadata": {},
   "source": [
    "## 11. Crie um scatter-plot leaflets x sales. Existe alguma correlação entre os dados? (Use a correlação de Pearson e explique o significado do valor obtido por ela)\n"
   ]
  },
  {
   "cell_type": "code",
   "execution_count": 58,
   "metadata": {},
   "outputs": [
    {
     "data": {
      "image/png": "[encoded data removed]",
      "text/plain": [
       "<Figure size 720x360 with 1 Axes>"
      ]
     },
     "metadata": {
      "needs_background": "light"
     },
     "output_type": "display_data"
    }
   ],
   "source": [
    "#Scatter\n",
    "plt.figure(figsize=(10,5))\n",
    "plt.scatter(Lemonades['Leaflets'], Lemonades['Sales'])\n",
    "plt.title('Scatter Leaflets x Sales')\n",
    "plt.xlabel('Leaflets')\n",
    "plt.ylabel('Sales')\n",
    "plt.show()"
   ]
  },
  {
   "cell_type": "code",
   "execution_count": 59,
   "metadata": {},
   "outputs": [
    {
     "name": "stdout",
     "output_type": "stream",
     "text": [
      "Pearsons correlation: 0.843\n"
     ]
    }
   ],
   "source": [
    "corr, _ = pearsonr(Lemonades['Leaflets'], Lemonades['Sales'])\n",
    "print('Pearsons correlation: %.3f' % corr)"
   ]
  },
  {
   "cell_type": "markdown",
   "metadata": {},
   "source": [
    "#### Como podem perceber, a coluna Leaflets tem uma correção forte correlação com a coluna sale, ou seja, quanto mais panfletos entregues maior as chances de aumentas o volume de vendas."
   ]
  },
  {
   "cell_type": "markdown",
   "metadata": {},
   "source": [
    "## 12. Crie um histograma com 10 bins que mostre o lucro (revenue)\n"
   ]
  },
  {
   "cell_type": "code",
   "execution_count": 60,
   "metadata": {},
   "outputs": [
    {
     "data": {
      "image/png": "[encoded data removed]",
      "text/plain": [
       "<Figure size 432x288 with 1 Axes>"
      ]
     },
     "metadata": {
      "needs_background": "light"
     },
     "output_type": "display_data"
    }
   ],
   "source": [
    "Lemonades['Revenue'].hist(bins=10)\n",
    "plt.title(\"Lucro\")\n",
    "plt.show()"
   ]
  },
  {
   "cell_type": "markdown",
   "metadata": {},
   "source": [
    "## 13. Crie um gráfico de linha que mostre o lucro por tipo de fruta ao longo do tempo\n"
   ]
  },
  {
   "cell_type": "code",
   "execution_count": 61,
   "metadata": {},
   "outputs": [
    {
     "data": {
      "image/png": "[encoded data removed]",
      "text/plain": [
       "<Figure size 720x360 with 1 Axes>"
      ]
     },
     "metadata": {
      "needs_background": "light"
     },
     "output_type": "display_data"
    }
   ],
   "source": [
    "plt.figure(figsize=(10,5)) \n",
    "Lemonades['Lemon'].plot(linewidth=1, x_compat=True)\n",
    "Lemonades['Orange'].plot(linewidth=1, x_compat=True)\n",
    "plt.title('Lucro ao longo do tempo')\n",
    "plt.xlabel('Data')\n",
    "plt.ylabel('Lucro')\n",
    "plt.legend()\n",
    "plt.show()"
   ]
  },
  {
   "cell_type": "markdown",
   "metadata": {},
   "source": [
    "## 14. Ajuste uma Regressão Linear aos dados para predizer vendas usando cada uma das features abaixo:\n",
    "\n"
   ]
  },
  {
   "cell_type": "markdown",
   "metadata": {},
   "source": [
    "###  a. Temperature\n"
   ]
  },
  {
   "cell_type": "code",
   "execution_count": 62,
   "metadata": {},
   "outputs": [
    {
     "name": "stdout",
     "output_type": "stream",
     "text": [
      "[216.89361079 172.41295428 216.89361079 211.33352872 205.77344666\n",
      " 216.89361079 216.89361079 228.01377491 189.09320047 150.17262603]\n",
      "1344.6493251182978\n",
      "[5.56008206]\n"
     ]
    }
   ],
   "source": [
    "y = Lemonades['Sales'].values\n",
    "x = Lemonades['Temperature'].values\n",
    "split_test_size = 0.30\n",
    "X_train, X_test, y_train, y_test = train_test_split(x, y, test_size=split_test_size, random_state=42)\n",
    "lr_model = linear_model.LinearRegression()\n",
    "lr_model.fit(X_train.reshape(-1, 1), y_train.ravel()) # flatten arrays\n",
    "y_pred = lr_model.predict(X_test.reshape(-1, 1))\n",
    "print(y_pred)\n",
    "print(mean_squared_error(y_test,y_pred))\n",
    "print(lr_model.coef_)\n",
    "# Predição de venda se temperatura for 90\n",
    "pred_value = np.array([90]).reshape(-1, 1)\n",
    "lr_model.predict(pred_value)\n",
    "temp = {'X_train': X_train, 'X_test': X_test, 'y_train': y_train,  'y_test': y_test, 'y_pred': y_pred}\n"
   ]
  },
  {
   "cell_type": "markdown",
   "metadata": {},
   "source": [
    "###  b. Leaflets\n"
   ]
  },
  {
   "cell_type": "code",
   "execution_count": 63,
   "metadata": {},
   "outputs": [
    {
     "name": "stdout",
     "output_type": "stream",
     "text": [
      "[158.6938895  158.6938895  212.76544574 222.7786969  230.78929782\n",
      " 240.80254898 140.67003742 248.81314991 176.71774158 158.6938895 ]\n",
      "138.0957581305987\n",
      "[2.00265023]\n"
     ]
    }
   ],
   "source": [
    "y = Lemonades['Sales'].values\n",
    "x = Lemonades['Leaflets'].values\n",
    "split_test_size = 0.30\n",
    "X_train, X_test, y_train, y_test = train_test_split(x, y, test_size=split_test_size, random_state=42)\n",
    "lr_model = linear_model.LinearRegression()\n",
    "lr_model.fit(X_train.reshape(-1, 1), y_train.ravel()) # flatten arrays\n",
    "y_pred = lr_model.predict(X_test.reshape(-1, 1))\n",
    "print(y_pred)\n",
    "print(mean_squared_error(y_test,y_pred))\n",
    "print(lr_model.coef_)\n",
    "# Predição de venda se folhetos for 180\n",
    "pred_value = np.array([180]).reshape(-1, 1)\n",
    "lr_model.predict(pred_value)\n",
    "leaf = {'X_train': X_train, 'X_test': X_test, 'y_train': y_train,  'y_test': y_test, 'y_pred': y_pred}\n"
   ]
  },
  {
   "cell_type": "markdown",
   "metadata": {},
   "source": [
    "###  c. Price"
   ]
  },
  {
   "cell_type": "code",
   "execution_count": 64,
   "metadata": {},
   "outputs": [
    {
     "name": "stdout",
     "output_type": "stream",
     "text": [
      "[200.21790956 165.29852692 170.47176879 170.47176879 217.46204914\n",
      " 217.46204914 196.59664025 170.47176879 217.46204914 220.04867008]\n",
      "2387.872543282379\n",
      "[-172.44139577]\n"
     ]
    }
   ],
   "source": [
    "y = np.array(Lemonades['Sales'].values)\n",
    "x = np.array(Lemonades['Price'].values)\n",
    "split_test_size = 0.30\n",
    "X_train, X_test, y_train, y_test = train_test_split(x, y, test_size=split_test_size, random_state=42)\n",
    "lr_model = linear_model.LinearRegression()\n",
    "lr_model.fit(X_train.reshape(-1, 1), y_train.ravel()) # flatten arrays\n",
    "y_pred = lr_model.predict(X_test.reshape(-1, 1))\n",
    "print(y_pred)\n",
    "print(mean_squared_error(y_test,y_pred))\n",
    "print(lr_model.coef_)\n",
    "# Predição de venda se preço for 0.70\n",
    "pred_value = np.array([0.70]).reshape(-1, 1)\n",
    "lr_model.predict(pred_value)\n",
    "price = {'X_train': X_train, 'X_test': X_test, 'y_train': y_train,  'y_test': y_test, 'y_pred': y_pred}\n"
   ]
  },
  {
   "cell_type": "markdown",
   "metadata": {},
   "source": [
    "### d. Retorne um gráfico com a reta ajustada aos dados para cada feature e diga se ela é uma variável boa ou não para predizer vendas. Comente o resultado obtido\n"
   ]
  },
  {
   "cell_type": "code",
   "execution_count": 65,
   "metadata": {},
   "outputs": [
    {
     "data": {
      "image/png": "[encoded data removed]",
      "text/plain": [
       "<Figure size 432x288 with 1 Axes>"
      ]
     },
     "metadata": {
      "needs_background": "light"
     },
     "output_type": "display_data"
    }
   ],
   "source": [
    "plt.scatter(temp['X_test'], temp['y_test'])\n",
    "plt.plot(temp['X_test'], temp['y_pred'], color='red')\n",
    "plt.title('Temperature')\n",
    "plt.show()"
   ]
  },
  {
   "cell_type": "code",
   "execution_count": 66,
   "metadata": {},
   "outputs": [
    {
     "data": {
      "image/png": "[encoded data removed]",
      "text/plain": [
       "<Figure size 432x288 with 1 Axes>"
      ]
     },
     "metadata": {
      "needs_background": "light"
     },
     "output_type": "display_data"
    }
   ],
   "source": [
    "plt.scatter(leaf['X_test'], leaf['y_test'])\n",
    "plt.plot(leaf['X_test'], leaf['y_pred'], color='red')\n",
    "plt.title('Leaflets')\n",
    "plt.show()"
   ]
  },
  {
   "cell_type": "code",
   "execution_count": 67,
   "metadata": {},
   "outputs": [
    {
     "data": {
      "image/png": "[encoded data removed]",
      "text/plain": [
       "<Figure size 432x288 with 1 Axes>"
      ]
     },
     "metadata": {
      "needs_background": "light"
     },
     "output_type": "display_data"
    }
   ],
   "source": [
    "plt.scatter(price['X_test'], price['y_test'])\n",
    "plt.plot(price['X_test'], price['y_pred'], color='red')\n",
    "plt.title('Price')\n",
    "plt.show()"
   ]
  },
  {
   "cell_type": "markdown",
   "metadata": {},
   "source": [
    "## 15. Ajuste uma Regressão Linear aos dados para predizer vendas usando as três features juntas. Comente o resultado obtido\n"
   ]
  },
  {
   "cell_type": "code",
   "execution_count": 68,
   "metadata": {},
   "outputs": [
    {
     "name": "stdout",
     "output_type": "stream",
     "text": [
      "[172.76184568 119.40932519 197.82726303 204.32253792 249.49963726\n",
      " 264.69894333 152.72211892 237.45777749 190.05386557 155.06326972]\n",
      "300.3462997342187\n",
      "[   1.87932372 -148.84825022    2.90134373]\n"
     ]
    },
    {
     "data": {
      "text/plain": [
       "array([151.71418409])"
      ]
     },
     "execution_count": 68,
     "metadata": {},
     "output_type": "execute_result"
    }
   ],
   "source": [
    "y = Lemonades['Sales'].values\n",
    "x = Lemonades[['Leaflets','Price', 'Temperature']].values\n",
    "split_test_size = 0.30\n",
    "X_train, X_test, y_train, y_test = train_test_split(x, y, test_size=split_test_size, random_state=42)\n",
    "lr_model = linear_model.LinearRegression()\n",
    "lr_model.fit(X_train, y_train) # flatten arrays\n",
    "y_pred = lr_model.predict(X_test)\n",
    "print(y_pred)\n",
    "print(mean_squared_error(y_test,y_pred))\n",
    "print(lr_model.coef_)\n",
    "# Predição de venda se Leaflets = 90, preço for 0.70 e temperatura 70\n",
    "pred_value = np.array([90, 0.31, 70]).reshape(-1, 3)\n",
    "lr_model.predict(pred_value)"
   ]
  },
  {
   "cell_type": "markdown",
   "metadata": {},
   "source": [
    "### O resultado foi uma venda estima de 154.8"
   ]
  },
  {
   "cell_type": "markdown",
   "metadata": {},
   "source": [
    "## 16. Generalize o algoritmo de Regressão Linear implementada em sala para que ele possa ser usado para regressão multivariada\n"
   ]
  },
  {
   "cell_type": "code",
   "execution_count": 2,
   "metadata": {},
   "outputs": [],
   "source": [
    "class LinearRegressionMultiVariable():\n",
    "    \n",
    "    def cost_function(self,X,y,theta):\n",
    "        m = len(y)\n",
    "        J = 0 \n",
    "        J = J + np.power(((X @ theta.T) - y), 2)\n",
    "        return np.sum(J) / (2 * len(X))\n",
    "\n",
    "    def gradient_descent(self,X,y,theta,alpha,num_iter):\n",
    "        m = len(y)\n",
    "        J_history = np.zeros(num_iter)\n",
    "\n",
    "        for k in range(num_iter):\n",
    "            theta = theta - (alpha / len(X)) * np.sum((X @ theta.T - y) * X, axis=0)\n",
    "\n",
    "            J_history[k] = self.cost_function(X, y, theta)\n",
    "    \n",
    "        return theta,J_history\n",
    "    \n",
    "    \n",
    "class LinearRegression2():\n",
    "    \n",
    "    def cost_function(self,X,y,theta):\n",
    "        m = len(y) #número de amostras\n",
    "        J = 0. # custo\n",
    "        numero_colunas = len(X.columns)        \n",
    "        \n",
    "        for i in range(m):\n",
    "            calculo_thetas = 0.\n",
    "            for indice_coluna in range(numero_colunas):\n",
    "                calculo_thetas += (theta[indice_coluna] * X[indice_coluna][i])                \n",
    "                \n",
    "            J = J + (calculo_thetas - y[i]) ** 2\n",
    "\n",
    "        return J*(1/(2*m))\n",
    "    \n",
    "    def gradient_descent(self,X,y,theta,alpha,num_iter):\n",
    "        m = len(y)\n",
    "        J_history = np.zeros(num_iter)\n",
    "        numero_colunas = len(X.columns)\n",
    "        \n",
    "        for k in range(num_iter):        \n",
    "            for i in range(m):\n",
    "                calculo_thetas = 0.\n",
    "                for indice_coluna in range(numero_colunas):\n",
    "                    calculo_thetas += (theta[indice_coluna] * X[indice_coluna][i])\n",
    "                \n",
    "                for indice_coluna in range(numero_colunas):\n",
    "                    theta[indice_coluna] = theta[indice_coluna] - alpha * (1/m * (calculo_thetas - y[i])) * X[indice_coluna][i]\n",
    "                \n",
    "            J_history[k] = self.cost_function(X,y,theta)\n",
    "    \n",
    "        return theta,J_history"
   ]
  },
  {
   "cell_type": "markdown",
   "metadata": {},
   "source": [
    "## 17. Aplique o algoritmo implementado na questão 16 no conjunto de dados consumo_cerveja.csv usando as mesmas features para treinamento:\n"
   ]
  },
  {
   "cell_type": "code",
   "execution_count": 3,
   "metadata": {},
   "outputs": [
    {
     "data": {
      "text/html": [
       "<div>\n",
       "<style scoped>\n",
       "    .dataframe tbody tr th:only-of-type {\n",
       "        vertical-align: middle;\n",
       "    }\n",
       "\n",
       "    .dataframe tbody tr th {\n",
       "        vertical-align: top;\n",
       "    }\n",
       "\n",
       "    .dataframe thead th {\n",
       "        text-align: right;\n",
       "    }\n",
       "</style>\n",
       "<table border=\"1\" class=\"dataframe\">\n",
       "  <thead>\n",
       "    <tr style=\"text-align: right;\">\n",
       "      <th></th>\n",
       "      <th>Data</th>\n",
       "      <th>meanTemp</th>\n",
       "      <th>minTemp</th>\n",
       "      <th>maxTemp</th>\n",
       "      <th>precip</th>\n",
       "      <th>weekend</th>\n",
       "      <th>consumo</th>\n",
       "    </tr>\n",
       "  </thead>\n",
       "  <tbody>\n",
       "    <tr>\n",
       "      <td>0</td>\n",
       "      <td>01/01/2015</td>\n",
       "      <td>27.30</td>\n",
       "      <td>23.9</td>\n",
       "      <td>32.5</td>\n",
       "      <td>0.0</td>\n",
       "      <td>0</td>\n",
       "      <td>25.461</td>\n",
       "    </tr>\n",
       "    <tr>\n",
       "      <td>1</td>\n",
       "      <td>02/01/2015</td>\n",
       "      <td>27.02</td>\n",
       "      <td>24.5</td>\n",
       "      <td>33.5</td>\n",
       "      <td>0.0</td>\n",
       "      <td>0</td>\n",
       "      <td>28.972</td>\n",
       "    </tr>\n",
       "    <tr>\n",
       "      <td>2</td>\n",
       "      <td>03/01/2015</td>\n",
       "      <td>24.82</td>\n",
       "      <td>22.4</td>\n",
       "      <td>29.9</td>\n",
       "      <td>0.0</td>\n",
       "      <td>1</td>\n",
       "      <td>30.814</td>\n",
       "    </tr>\n",
       "    <tr>\n",
       "      <td>3</td>\n",
       "      <td>04/01/2015</td>\n",
       "      <td>23.98</td>\n",
       "      <td>21.5</td>\n",
       "      <td>28.6</td>\n",
       "      <td>1.2</td>\n",
       "      <td>1</td>\n",
       "      <td>29.799</td>\n",
       "    </tr>\n",
       "    <tr>\n",
       "      <td>4</td>\n",
       "      <td>05/01/2015</td>\n",
       "      <td>23.82</td>\n",
       "      <td>21.0</td>\n",
       "      <td>28.3</td>\n",
       "      <td>0.0</td>\n",
       "      <td>0</td>\n",
       "      <td>28.900</td>\n",
       "    </tr>\n",
       "  </tbody>\n",
       "</table>\n",
       "</div>"
      ],
      "text/plain": [
       "         Data  meanTemp  minTemp  maxTemp  precip  weekend  consumo\n",
       "0  01/01/2015     27.30     23.9     32.5     0.0        0   25.461\n",
       "1  02/01/2015     27.02     24.5     33.5     0.0        0   28.972\n",
       "2  03/01/2015     24.82     22.4     29.9     0.0        1   30.814\n",
       "3  04/01/2015     23.98     21.5     28.6     1.2        1   29.799\n",
       "4  05/01/2015     23.82     21.0     28.3     0.0        0   28.900"
      ]
     },
     "execution_count": 3,
     "metadata": {},
     "output_type": "execute_result"
    }
   ],
   "source": [
    "### Lendo o arquivo cerveja\n",
    "cerveja = pd.read_csv('data/Consumo_cerveja.csv', sep=';')\n",
    "cerveja = cerveja.rename(columns={'Temperatura Media (C)':'meanTemp','Temperatura Minima (C)':'minTemp','Temperatura Maxima (C)':'maxTemp',\n",
    "                       'Precipitacao (mm)':'precip','Final de Semana':'weekend','Consumo de cerveja (litros)':'consumo'})\n",
    "cerveja.head()"
   ]
  },
  {
   "cell_type": "markdown",
   "metadata": {},
   "source": [
    "### a. Compare os resultados que você obteve com os resultados obtidos através da Scikit Learning\n"
   ]
  },
  {
   "cell_type": "code",
   "execution_count": 7,
   "metadata": {},
   "outputs": [],
   "source": [
    "### Divisão dos dados\n",
    "x = cerveja.drop(columns=['consumo', 'Data'])\n",
    "y = cerveja['consumo']\n",
    "\n",
    "split_test_size = 0.30\n",
    "X_train, X_test, y_train, y_test = train_test_split(x, y, test_size=split_test_size, random_state=42)"
   ]
  },
  {
   "cell_type": "code",
   "execution_count": 10,
   "metadata": {},
   "outputs": [
    {
     "ename": "KeyError",
     "evalue": "0",
     "output_type": "error",
     "traceback": [
      "\u001b[1;31m---------------------------------------------------------------------------\u001b[0m",
      "\u001b[1;31mKeyError\u001b[0m                                  Traceback (most recent call last)",
      "\u001b[1;32m<ipython-input-10-41c75ca38a7a>\u001b[0m in \u001b[0;36m<module>\u001b[1;34m\u001b[0m\n\u001b[0;32m      9\u001b[0m \u001b[1;33m\u001b[0m\u001b[0m\n\u001b[0;32m     10\u001b[0m \u001b[0mlr\u001b[0m \u001b[1;33m=\u001b[0m \u001b[0mLinearRegression2\u001b[0m\u001b[1;33m(\u001b[0m\u001b[1;33m)\u001b[0m\u001b[1;33m\u001b[0m\u001b[1;33m\u001b[0m\u001b[0m\n\u001b[1;32m---> 11\u001b[1;33m \u001b[0mcusto_ini_lr\u001b[0m \u001b[1;33m=\u001b[0m \u001b[0mlr\u001b[0m\u001b[1;33m.\u001b[0m\u001b[0mcost_function\u001b[0m\u001b[1;33m(\u001b[0m\u001b[0mX_train_lr\u001b[0m\u001b[1;33m,\u001b[0m\u001b[0my_train\u001b[0m\u001b[1;33m,\u001b[0m\u001b[0mtheta\u001b[0m\u001b[1;33m)\u001b[0m\u001b[1;33m\u001b[0m\u001b[1;33m\u001b[0m\u001b[0m\n\u001b[0m\u001b[0;32m     12\u001b[0m \u001b[1;31m#theta_lr, custo_h = lr.gradient_descent(X_train_lr,y_train,theta,alpha,iterations)\u001b[0m\u001b[1;33m\u001b[0m\u001b[1;33m\u001b[0m\u001b[1;33m\u001b[0m\u001b[0m\n\u001b[0;32m     13\u001b[0m \u001b[1;31m#print(theta_lr)\u001b[0m\u001b[1;33m\u001b[0m\u001b[1;33m\u001b[0m\u001b[1;33m\u001b[0m\u001b[0m\n",
      "\u001b[1;32m<ipython-input-2-ef40bbbb9575>\u001b[0m in \u001b[0;36mcost_function\u001b[1;34m(self, X, y, theta)\u001b[0m\n\u001b[0;32m     29\u001b[0m             \u001b[0mcalculo_thetas\u001b[0m \u001b[1;33m=\u001b[0m \u001b[1;36m0.\u001b[0m\u001b[1;33m\u001b[0m\u001b[1;33m\u001b[0m\u001b[0m\n\u001b[0;32m     30\u001b[0m             \u001b[1;32mfor\u001b[0m \u001b[0mindice_coluna\u001b[0m \u001b[1;32min\u001b[0m \u001b[0mrange\u001b[0m\u001b[1;33m(\u001b[0m\u001b[0mnumero_colunas\u001b[0m\u001b[1;33m)\u001b[0m\u001b[1;33m:\u001b[0m\u001b[1;33m\u001b[0m\u001b[1;33m\u001b[0m\u001b[0m\n\u001b[1;32m---> 31\u001b[1;33m                 \u001b[0mcalculo_thetas\u001b[0m \u001b[1;33m+=\u001b[0m \u001b[1;33m(\u001b[0m\u001b[0mtheta\u001b[0m\u001b[1;33m[\u001b[0m\u001b[0mindice_coluna\u001b[0m\u001b[1;33m]\u001b[0m \u001b[1;33m*\u001b[0m \u001b[0mX\u001b[0m\u001b[1;33m[\u001b[0m\u001b[0mindice_coluna\u001b[0m\u001b[1;33m]\u001b[0m\u001b[1;33m[\u001b[0m\u001b[0mi\u001b[0m\u001b[1;33m]\u001b[0m\u001b[1;33m)\u001b[0m\u001b[1;33m\u001b[0m\u001b[1;33m\u001b[0m\u001b[0m\n\u001b[0m\u001b[0;32m     32\u001b[0m \u001b[1;33m\u001b[0m\u001b[0m\n\u001b[0;32m     33\u001b[0m             \u001b[0mJ\u001b[0m \u001b[1;33m=\u001b[0m \u001b[0mJ\u001b[0m \u001b[1;33m+\u001b[0m \u001b[1;33m(\u001b[0m\u001b[0mcalculo_thetas\u001b[0m \u001b[1;33m-\u001b[0m \u001b[0my\u001b[0m\u001b[1;33m[\u001b[0m\u001b[0mi\u001b[0m\u001b[1;33m]\u001b[0m\u001b[1;33m)\u001b[0m \u001b[1;33m**\u001b[0m \u001b[1;36m2\u001b[0m\u001b[1;33m\u001b[0m\u001b[1;33m\u001b[0m\u001b[0m\n",
      "\u001b[1;32mc:\\users\\everton\\appdata\\local\\programs\\python\\python37\\lib\\site-packages\\pandas\\core\\series.py\u001b[0m in \u001b[0;36m__getitem__\u001b[1;34m(self, key)\u001b[0m\n\u001b[0;32m   1066\u001b[0m         \u001b[0mkey\u001b[0m \u001b[1;33m=\u001b[0m \u001b[0mcom\u001b[0m\u001b[1;33m.\u001b[0m\u001b[0mapply_if_callable\u001b[0m\u001b[1;33m(\u001b[0m\u001b[0mkey\u001b[0m\u001b[1;33m,\u001b[0m \u001b[0mself\u001b[0m\u001b[1;33m)\u001b[0m\u001b[1;33m\u001b[0m\u001b[1;33m\u001b[0m\u001b[0m\n\u001b[0;32m   1067\u001b[0m         \u001b[1;32mtry\u001b[0m\u001b[1;33m:\u001b[0m\u001b[1;33m\u001b[0m\u001b[1;33m\u001b[0m\u001b[0m\n\u001b[1;32m-> 1068\u001b[1;33m             \u001b[0mresult\u001b[0m \u001b[1;33m=\u001b[0m \u001b[0mself\u001b[0m\u001b[1;33m.\u001b[0m\u001b[0mindex\u001b[0m\u001b[1;33m.\u001b[0m\u001b[0mget_value\u001b[0m\u001b[1;33m(\u001b[0m\u001b[0mself\u001b[0m\u001b[1;33m,\u001b[0m \u001b[0mkey\u001b[0m\u001b[1;33m)\u001b[0m\u001b[1;33m\u001b[0m\u001b[1;33m\u001b[0m\u001b[0m\n\u001b[0m\u001b[0;32m   1069\u001b[0m \u001b[1;33m\u001b[0m\u001b[0m\n\u001b[0;32m   1070\u001b[0m             \u001b[1;32mif\u001b[0m \u001b[1;32mnot\u001b[0m \u001b[0mis_scalar\u001b[0m\u001b[1;33m(\u001b[0m\u001b[0mresult\u001b[0m\u001b[1;33m)\u001b[0m\u001b[1;33m:\u001b[0m\u001b[1;33m\u001b[0m\u001b[1;33m\u001b[0m\u001b[0m\n",
      "\u001b[1;32mc:\\users\\everton\\appdata\\local\\programs\\python\\python37\\lib\\site-packages\\pandas\\core\\indexes\\base.py\u001b[0m in \u001b[0;36mget_value\u001b[1;34m(self, series, key)\u001b[0m\n\u001b[0;32m   4728\u001b[0m         \u001b[0mk\u001b[0m \u001b[1;33m=\u001b[0m \u001b[0mself\u001b[0m\u001b[1;33m.\u001b[0m\u001b[0m_convert_scalar_indexer\u001b[0m\u001b[1;33m(\u001b[0m\u001b[0mk\u001b[0m\u001b[1;33m,\u001b[0m \u001b[0mkind\u001b[0m\u001b[1;33m=\u001b[0m\u001b[1;34m\"getitem\"\u001b[0m\u001b[1;33m)\u001b[0m\u001b[1;33m\u001b[0m\u001b[1;33m\u001b[0m\u001b[0m\n\u001b[0;32m   4729\u001b[0m         \u001b[1;32mtry\u001b[0m\u001b[1;33m:\u001b[0m\u001b[1;33m\u001b[0m\u001b[1;33m\u001b[0m\u001b[0m\n\u001b[1;32m-> 4730\u001b[1;33m             \u001b[1;32mreturn\u001b[0m \u001b[0mself\u001b[0m\u001b[1;33m.\u001b[0m\u001b[0m_engine\u001b[0m\u001b[1;33m.\u001b[0m\u001b[0mget_value\u001b[0m\u001b[1;33m(\u001b[0m\u001b[0ms\u001b[0m\u001b[1;33m,\u001b[0m \u001b[0mk\u001b[0m\u001b[1;33m,\u001b[0m \u001b[0mtz\u001b[0m\u001b[1;33m=\u001b[0m\u001b[0mgetattr\u001b[0m\u001b[1;33m(\u001b[0m\u001b[0mseries\u001b[0m\u001b[1;33m.\u001b[0m\u001b[0mdtype\u001b[0m\u001b[1;33m,\u001b[0m \u001b[1;34m\"tz\"\u001b[0m\u001b[1;33m,\u001b[0m \u001b[1;32mNone\u001b[0m\u001b[1;33m)\u001b[0m\u001b[1;33m)\u001b[0m\u001b[1;33m\u001b[0m\u001b[1;33m\u001b[0m\u001b[0m\n\u001b[0m\u001b[0;32m   4731\u001b[0m         \u001b[1;32mexcept\u001b[0m \u001b[0mKeyError\u001b[0m \u001b[1;32mas\u001b[0m \u001b[0me1\u001b[0m\u001b[1;33m:\u001b[0m\u001b[1;33m\u001b[0m\u001b[1;33m\u001b[0m\u001b[0m\n\u001b[0;32m   4732\u001b[0m             \u001b[1;32mif\u001b[0m \u001b[0mlen\u001b[0m\u001b[1;33m(\u001b[0m\u001b[0mself\u001b[0m\u001b[1;33m)\u001b[0m \u001b[1;33m>\u001b[0m \u001b[1;36m0\u001b[0m \u001b[1;32mand\u001b[0m \u001b[1;33m(\u001b[0m\u001b[0mself\u001b[0m\u001b[1;33m.\u001b[0m\u001b[0mholds_integer\u001b[0m\u001b[1;33m(\u001b[0m\u001b[1;33m)\u001b[0m \u001b[1;32mor\u001b[0m \u001b[0mself\u001b[0m\u001b[1;33m.\u001b[0m\u001b[0mis_boolean\u001b[0m\u001b[1;33m(\u001b[0m\u001b[1;33m)\u001b[0m\u001b[1;33m)\u001b[0m\u001b[1;33m:\u001b[0m\u001b[1;33m\u001b[0m\u001b[1;33m\u001b[0m\u001b[0m\n",
      "\u001b[1;32mpandas\\_libs\\index.pyx\u001b[0m in \u001b[0;36mpandas._libs.index.IndexEngine.get_value\u001b[1;34m()\u001b[0m\n",
      "\u001b[1;32mpandas\\_libs\\index.pyx\u001b[0m in \u001b[0;36mpandas._libs.index.IndexEngine.get_value\u001b[1;34m()\u001b[0m\n",
      "\u001b[1;32mpandas\\_libs\\index.pyx\u001b[0m in \u001b[0;36mpandas._libs.index.IndexEngine.get_loc\u001b[1;34m()\u001b[0m\n",
      "\u001b[1;32mpandas\\_libs\\hashtable_class_helper.pxi\u001b[0m in \u001b[0;36mpandas._libs.hashtable.Int64HashTable.get_item\u001b[1;34m()\u001b[0m\n",
      "\u001b[1;32mpandas\\_libs\\hashtable_class_helper.pxi\u001b[0m in \u001b[0;36mpandas._libs.hashtable.Int64HashTable.get_item\u001b[1;34m()\u001b[0m\n",
      "\u001b[1;31mKeyError\u001b[0m: 0"
     ]
    }
   ],
   "source": [
    "### Usando algoritmo\n",
    "X_train_lr = X_train\n",
    "ones = np.ones(len(X_train_lr)) \n",
    "X_train_lr.insert(0,len(X_train_lr.columns) + 1,ones)\n",
    "theta = np.zeros(len(X_train_lr.columns))\n",
    "X_train_lr.columns = range(X_train_lr.shape[1])\n",
    "iterations = 1500\n",
    "alpha = 0.01\n",
    "\n",
    "lr = LinearRegression2()\n",
    "custo_ini_lr = lr.cost_function(X_train_lr,y_train,theta)\n",
    "#theta_lr, custo_h = lr.gradient_descent(X_train_lr,y_train,theta,alpha,iterations)\n",
    "#print(theta_lr)\n",
    "#Yfit = np.matmul(X_train_lr.values,theta_lr)\n",
    "#print((Yfit))"
   ]
  },
  {
   "cell_type": "code",
   "execution_count": null,
   "metadata": {},
   "outputs": [],
   "source": [
    "\n",
    "lr_model = linear_model.LinearRegression()\n",
    "lr_model.fit(X_train, y_train) # flatten arrays\n",
    "y_pred = lr_model.predict(X_test)\n",
    "print(y_pred)\n",
    "\n",
    "print(lr_model.coef_)\n"
   ]
  },
  {
   "cell_type": "markdown",
   "metadata": {},
   "source": [
    "### b. Prediga o consumo usando seu modelo e o modelo da sklearn\n"
   ]
  },
  {
   "cell_type": "code",
   "execution_count": null,
   "metadata": {},
   "outputs": [],
   "source": [
    "### Usando algoritmo"
   ]
  },
  {
   "cell_type": "code",
   "execution_count": null,
   "metadata": {},
   "outputs": [],
   "source": [
    "### Usando sklearn"
   ]
  },
  {
   "cell_type": "code",
   "execution_count": null,
   "metadata": {},
   "outputs": [],
   "source": [
    "# Predição de venda se meanTemp = 33 minTemp = 26 maxTemp = 38 precip = 0 weekend = 1\n",
    "pred_value = np.array([33,26,33,0,1]).reshape(-1, 5)\n",
    "lr_model.predict(pred_value)"
   ]
  },
  {
   "cell_type": "markdown",
   "metadata": {},
   "source": [
    "### c. Calcule o MSE de ambos"
   ]
  },
  {
   "cell_type": "code",
   "execution_count": null,
   "metadata": {},
   "outputs": [],
   "source": [
    "#### TODO\n",
    "print(mean_squared_error(y_test,y_pred))"
   ]
  }
 ],
 "metadata": {
  "kernelspec": {
   "display_name": "Python 3",
   "language": "python",
   "name": "python3"
  },
  "language_info": {
   "codemirror_mode": {
    "name": "ipython",
    "version": 3
   },
   "file_extension": ".py",
   "mimetype": "text/x-python",
   "name": "python",
   "nbconvert_exporter": "python",
   "pygments_lexer": "ipython3",
   "version": "3.7.2"
  }
 },
 "nbformat": 4,
 "nbformat_minor": 2
}
